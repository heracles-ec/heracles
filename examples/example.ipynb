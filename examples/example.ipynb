{
 "cells": [
  {
   "cell_type": "markdown",
   "metadata": {},
   "source": [
    "# Two-point statistics from *Heracles*"
   ]
  },
  {
   "cell_type": "markdown",
   "metadata": {},
   "source": [
    "This notebook demonstrates how *Heracles* extracts the two-point statistics from a *LE3-WL* shear catalogue.\n",
    "\n",
    "The statistics are done here at a much lower resolution than for the scientific goals of *Euclid*. That is because at the target resolution of *NSIDE = 4K* for the position and shear maps (1.5G per map) and *NSIDE = 8K* for the visibility and weight maps (6G per map), the memory required makes it impossible to hold all maps at once. In an actual pipeline, each map is constructed in isolation by a separate worker instance, and each worker only holds the data it requires at each step.\n",
    "\n",
    "The example uses the [*Flagship2* data for *LE3-WL*](https://sdcuk-webdav.roe.ac.uk/LE3_WL_Flagship2/). The catalogue contains about 128 million galaxies, roughly corresponding to *Euclid* DR1 in the north."
   ]
  },
  {
   "cell_type": "markdown",
   "metadata": {},
   "source": [
    "<div class=\"alert alert-block alert-warning\">\n",
    "    <p><strong>Note:</strong> This notebook is meant to give you an idea of <strong>how <em>Heracles</em> works</strong>.</p>\n",
    "    <p><ul>\n",
    "        <li>The notebook does <strong>not</strong> perform a very thorough analysis.</li>\n",
    "        <li>The notebook does <strong>not</strong> show everything that <em>Heracles</em> can do.</li>\n",
    "        <li>The notebook does <strong>not</strong> indicate how good the eventual <em>Euclid</em> results may or may not be.</li>\n",
    "        <li>The notebook does <strong>not</strong> treat all observational effects we know about.</li>\n",
    "        <li>The notebook does <strong>not</strong> model the expected signal properly.</li>\n",
    "    </ul></p>\n",
    "    <p><strong>This is a toy, treat it is such!</strong></p>\n",
    "</div>"
   ]
  },
  {
   "cell_type": "markdown",
   "metadata": {},
   "source": [
    "**Contents:**\n",
    "\n",
    "* [Setup](#Setup)\n",
    "* [Basic parameters](#Basic-parameters)\n",
    "* [Catalogues](#Catalogues)\n",
    "* [Tomographic binning](#Tomographic-binning)\n",
    "* [Visibility maps](#Visibility-maps)\n",
    "* [Maps](#Maps)\n",
    "* [Alms](#Alms)\n",
    "* [Two-point statistics](#Two-point-statistics)\n",
    "* [Noise bias](#Noise-bias)\n",
    "* [Debiasing](#Debiasing)\n",
    "* [Mixing matrices](#Mixing-matrices)\n",
    "* [Theory](#Theory)\n",
    "* [Results](#Results)"
   ]
  },
  {
   "cell_type": "markdown",
   "metadata": {},
   "source": [
    "## Setup"
   ]
  },
  {
   "cell_type": "markdown",
   "metadata": {},
   "source": [
    "Uncomment this to enable info-level logging. This produces quite a lot of output below, but will show exactly what is going on while you are waiting for results."
   ]
  },
  {
   "cell_type": "code",
   "execution_count": 1,
   "metadata": {},
   "outputs": [],
   "source": [
    "#import logging\n",
    "#logging.basicConfig(level=logging.INFO)"
   ]
  },
  {
   "cell_type": "markdown",
   "metadata": {},
   "source": [
    "Some required imports, nothing fancy."
   ]
  },
  {
   "cell_type": "code",
   "execution_count": 2,
   "metadata": {},
   "outputs": [],
   "source": [
    "import numpy as np\n",
    "import healpy as hp\n",
    "import fitsio\n",
    "import matplotlib.pyplot as plt\n",
    "import matplotlib as mpl"
   ]
  },
  {
   "cell_type": "markdown",
   "metadata": {},
   "source": [
    "## Basic parameters"
   ]
  },
  {
   "cell_type": "markdown",
   "metadata": {},
   "source": [
    "As initially mentioned, set this to values such that your machine does not blow up when this example keeps all maps in memory at the same time."
   ]
  },
  {
   "cell_type": "code",
   "execution_count": 3,
   "metadata": {},
   "outputs": [],
   "source": [
    "nside = 1024\n",
    "lmax = 1000"
   ]
  },
  {
   "cell_type": "markdown",
   "metadata": {},
   "source": [
    "## Catalogues"
   ]
  },
  {
   "cell_type": "markdown",
   "metadata": {},
   "source": [
    "*Heracles* provides a flexible interface for loading catalogues from FITS files or arrays. It also provides a base that can quickly be extended e.g. to databases or more.\n",
    "\n",
    "Here we use the FITS interface to read a catalogue from file. We could specify the columns to read, but we don't do that here, because the catalogue only has columns of interest here.\n",
    "\n",
    "Catalogues are never read into memory all at once. The `page_size` property determines how many rows are read at a time."
   ]
  },
  {
   "cell_type": "code",
   "execution_count": 4,
   "metadata": {},
   "outputs": [],
   "source": [
    "from heracles.catalog import FitsCatalog"
   ]
  },
  {
   "cell_type": "code",
   "execution_count": 5,
   "metadata": {},
   "outputs": [],
   "source": [
    "# load the FITS catalogue\n",
    "cat_path = '/home/jaimerz/UCL/catalogues/wlfs2_dr1s_vis24.5_nomag.fits'\n",
    "wlfs2_cat = FitsCatalog(cat_path)"
   ]
  },
  {
   "cell_type": "markdown",
   "metadata": {},
   "source": [
    "Using the `.add_filter()` method, we could add filters to the catalogue here which e.g. strip rows with invalid values, or apply an extra footprint mask to the catalogue."
   ]
  },
  {
   "cell_type": "markdown",
   "metadata": {},
   "source": [
    "### Playground"
   ]
  },
  {
   "cell_type": "markdown",
   "metadata": {},
   "source": [
    "The `Catalog` interface is essentially an interator over pages of catalogue data. You can use it as such:"
   ]
  },
  {
   "cell_type": "code",
   "execution_count": 6,
   "metadata": {},
   "outputs": [
    {
     "name": "stdout",
     "output_type": "stream",
     "text": [
      "there are 121_333_288 rows in your catalogue\n"
     ]
    }
   ],
   "source": [
    "nrows = 0\n",
    "for page in wlfs2_cat:\n",
    "    nrows += page.size\n",
    "\n",
    "# no need to iterate to get the number of rows, really\n",
    "assert nrows == wlfs2_cat.size\n",
    "\n",
    "print(f'there are {nrows:_} rows in your catalogue')"
   ]
  },
  {
   "cell_type": "markdown",
   "metadata": {},
   "source": [
    "The `page` object is a mapping of column names to rows, with some additional features:\n",
    "\n",
    "* The number of rows, `page.size`\n",
    "* The names of columns, `page.names`\n",
    "* A view of the underlying data, `page.data`\n",
    "* Make a copy of the page, `page.copy()`\n",
    "* Delete specific rows, `page.delete(where)`\n",
    "* Return multiple columns at once, using `page['a', 'b']` or `page[['a', 'b']]`\n",
    "* Return columns while checking for invalid values using `page.get('a', 'b')`"
   ]
  },
  {
   "cell_type": "markdown",
   "metadata": {},
   "source": [
    "## Visibility maps"
   ]
  },
  {
   "cell_type": "markdown",
   "metadata": {},
   "source": [
    "The position statistics require knowledge of the *a priori* probability of detecting a galaxy at each point in the sky. We call this the *visibility*, and we use it in the form of *visibility maps*, which are full-sky maps of detection probabilities."
   ]
  },
  {
   "cell_type": "code",
   "execution_count": 7,
   "metadata": {},
   "outputs": [],
   "source": [
    "import fitsio\n",
    "\n",
    "vmap_path = '/home/jaimerz/UCL/catalogues/vmap_wlfs2_dr1n_vis24.5_nomag.fits'\n",
    "vmap = np.zeros(12 * 8192**2)\n",
    "#vmap = np.zeros(12 * nside**2)\n",
    "vmap[fitsio.read(vmap_path, columns=\"PIXEL\")] = fitsio.read(vmap_path, columns=\"WEIGHT\")"
   ]
  },
  {
   "cell_type": "code",
   "execution_count": 8,
   "metadata": {},
   "outputs": [],
   "source": [
    "#vmap = hp.ud_grade(vmap, 2*nside)"
   ]
  },
  {
   "cell_type": "markdown",
   "metadata": {},
   "source": [
    "For a real survey, the visibility is a complicated function of position, observing conditions, and selection. Each tomographic bin would thus normally require an individual visibility map. However, in this simulated example, the selection is the same for all positions and tomographic bins, and the visibility map is simply the footprint map of the survey."
   ]
  },
  {
   "cell_type": "code",
   "execution_count": 9,
   "metadata": {},
   "outputs": [],
   "source": [
    "# set visibility map of entire catalogue\n",
    "wlfs2_cat.visibility = vmap"
   ]
  },
  {
   "cell_type": "markdown",
   "metadata": {},
   "source": [
    "### Playground"
   ]
  },
  {
   "cell_type": "markdown",
   "metadata": {},
   "source": [
    "Quick inspection of the visibility map:"
   ]
  },
  {
   "cell_type": "code",
   "execution_count": 10,
   "metadata": {},
   "outputs": [
    {
     "data": {
      "image/png": "[encoded data removed]",
      "text/plain": [
       "<Figure size 850x540 with 2 Axes>"
      ]
     },
     "metadata": {},
     "output_type": "display_data"
    }
   ],
   "source": [
    "hp.mollview(vmap, title='visibility', cmap='binary', bgcolor='none')\n",
    "hp.graticule()\n",
    "plt.show()"
   ]
  },
  {
   "cell_type": "markdown",
   "metadata": {},
   "source": [
    "## Tomographic binning"
   ]
  },
  {
   "cell_type": "markdown",
   "metadata": {},
   "source": [
    "The `wlfs2_cat` object can be used to read the entire catalogue. However, we would like to split our galaxies into individual tomographic bins. In fact, each galaxy has already been assigned a label that says which tomographic bin it belongs to, in the `TOM_BIN_ID` column.\n",
    "\n",
    "To perform the tomographic binning, we construct a `dict` that assigns a bin ID of type `int` to a catalogue. We perform a selection on the `wlfs2_cat` FITS using the `[]` syntax, which returns a new view of the `FitsCatalog` with the given row filter applied."
   ]
  },
  {
   "cell_type": "code",
   "execution_count": 11,
   "metadata": {},
   "outputs": [],
   "source": [
    "catalogs = {i: wlfs2_cat[f'TOM_BIN_ID == {i}'] for i in range(10)}"
   ]
  },
  {
   "cell_type": "code",
   "execution_count": 12,
   "metadata": {},
   "outputs": [
    {
     "data": {
      "text/plain": [
       "{0: /home/jaimerz/UCL/catalogues/wlfs2_dr1s_vis24.5_nomag.fits['TOM_BIN_ID == 0'],\n",
       " 1: /home/jaimerz/UCL/catalogues/wlfs2_dr1s_vis24.5_nomag.fits['TOM_BIN_ID == 1'],\n",
       " 2: /home/jaimerz/UCL/catalogues/wlfs2_dr1s_vis24.5_nomag.fits['TOM_BIN_ID == 2'],\n",
       " 3: /home/jaimerz/UCL/catalogues/wlfs2_dr1s_vis24.5_nomag.fits['TOM_BIN_ID == 3'],\n",
       " 4: /home/jaimerz/UCL/catalogues/wlfs2_dr1s_vis24.5_nomag.fits['TOM_BIN_ID == 4'],\n",
       " 5: /home/jaimerz/UCL/catalogues/wlfs2_dr1s_vis24.5_nomag.fits['TOM_BIN_ID == 5'],\n",
       " 6: /home/jaimerz/UCL/catalogues/wlfs2_dr1s_vis24.5_nomag.fits['TOM_BIN_ID == 6'],\n",
       " 7: /home/jaimerz/UCL/catalogues/wlfs2_dr1s_vis24.5_nomag.fits['TOM_BIN_ID == 7'],\n",
       " 8: /home/jaimerz/UCL/catalogues/wlfs2_dr1s_vis24.5_nomag.fits['TOM_BIN_ID == 8'],\n",
       " 9: /home/jaimerz/UCL/catalogues/wlfs2_dr1s_vis24.5_nomag.fits['TOM_BIN_ID == 9']}"
      ]
     },
     "execution_count": 12,
     "metadata": {},
     "output_type": "execute_result"
    }
   ],
   "source": [
    "catalogs"
   ]
  },
  {
   "cell_type": "markdown",
   "metadata": {},
   "source": [
    "View have their own invididual `.visibility` property, but inherit the visibility of the base catalogue by default.\n",
    "\n",
    "Instead of the `[]` syntax, view can also be created using the `.where()` method, in which case the visibility can be given directly."
   ]
  },
  {
   "cell_type": "code",
   "execution_count": 13,
   "metadata": {},
   "outputs": [
    {
     "data": {
      "text/plain": [
       "True"
      ]
     },
     "execution_count": 13,
     "metadata": {},
     "output_type": "execute_result"
    }
   ],
   "source": [
    "catalogs[3].visibility is vmap"
   ]
  },
  {
   "cell_type": "markdown",
   "metadata": {},
   "source": [
    "Note that `catalogs` is a simple mapping of integer bin IDs to instances of type `Catalog`. You can create such a mapping in any way you like; the values do not have to come from the same `FitsCatalog`, or even the same type of catalogue."
   ]
  },
  {
   "cell_type": "markdown",
   "metadata": {},
   "source": [
    "### Playground"
   ]
  },
  {
   "cell_type": "markdown",
   "metadata": {},
   "source": [
    "Return the number of rows in tomographic bin 5."
   ]
  },
  {
   "cell_type": "code",
   "execution_count": 14,
   "metadata": {},
   "outputs": [
    {
     "name": "stdout",
     "output_type": "stream",
     "text": [
      "tomographic bin 5 contains 11_532_647 rows\n"
     ]
    }
   ],
   "source": [
    "# need to sum because FITS cannot tell the size a priori\n",
    "nrows = sum(page.size for page in catalogs[5])\n",
    "\n",
    "print(f'tomographic bin 5 contains {nrows:_} rows')"
   ]
  },
  {
   "cell_type": "markdown",
   "metadata": {},
   "source": [
    "## Fields"
   ]
  },
  {
   "cell_type": "code",
   "execution_count": 15,
   "metadata": {},
   "outputs": [],
   "source": [
    "from heracles.fields import Positions, Shears"
   ]
  },
  {
   "cell_type": "markdown",
   "metadata": {},
   "source": [
    "To specify the fields we wish to analyse, we construct a dictionary of keys and field definitions. Each of these receives a list of columns that it reads, plus potentially some other options.\n",
    "\n",
    "For a standard 3x2pt analysis in harmonic space, we need\n",
    "\n",
    "* A position field (`\"P\"`) for angular clustering and galaxy-galaxy lensing;\n",
    "* A shear field (`\"G\"`) for cosmic shear and galaxy-galaxy lensing.\n",
    "\n",
    "We also specify that the shear field should flip the sign of the \"G2\" column by adding a minus sign.\n",
    "\n",
    "Finally, we define the optional names of the masks (`\"V\"`, `\"W\"`) of the fields. These will be used further down below to compute mixing matrices."
   ]
  },
  {
   "cell_type": "code",
   "execution_count": 16,
   "metadata": {},
   "outputs": [],
   "source": [
    "# don't repeat the lon and lat column every time\n",
    "lonlat = ('RIGHT_ASCENSION', 'DECLINATION')\n",
    "\n",
    "fields = {\n",
    "    'P': Positions(*lonlat, mask=\"V\"),\n",
    "    'G': Shears(*lonlat, 'G1', '-G2', 'WEIGHT', mask=\"W\"),\n",
    "}"
   ]
  },
  {
   "cell_type": "markdown",
   "metadata": {},
   "source": [
    "## Maps"
   ]
  },
  {
   "attachments": {},
   "cell_type": "markdown",
   "metadata": {},
   "source": [
    "The next step is to produce maps of our position and shear fields from the catalogues for each tomographic bin. To make maps, *Heracles* requires a so-called mapper object, which knows how to map positions and values onto e.g. HEALPix pixels. Here, we construct a `Healpix` mapper instance with our desired *NSIDE* parameter."
   ]
  },
  {
   "cell_type": "code",
   "execution_count": 17,
   "metadata": {},
   "outputs": [],
   "source": [
    "from heracles.maps import Healpix, map_catalogs"
   ]
  },
  {
   "cell_type": "code",
   "execution_count": 18,
   "metadata": {},
   "outputs": [],
   "source": [
    "mapper = Healpix(nside)"
   ]
  },
  {
   "cell_type": "code",
   "execution_count": 19,
   "metadata": {},
   "outputs": [
    {
     "data": {
      "text/plain": [
       "<heracles.maps._healpix.Healpix at 0x7f450f7ad2d0>"
      ]
     },
     "execution_count": 19,
     "metadata": {},
     "output_type": "execute_result"
    }
   ],
   "source": [
    "mapper"
   ]
  },
  {
   "cell_type": "markdown",
   "metadata": {
    "tags": []
   },
   "source": [
    "Now we are able to create maps of the tomographic catalogues. *Heracles* can map a whole set of catalogues all at once, using the `map_catalogs()` functions. We only need to pass in the desired mapper, as well as the fields and catalogues constructed previously."
   ]
  },
  {
   "cell_type": "code",
   "execution_count": 19,
   "metadata": {},
   "outputs": [
    {
     "name": "stderr",
     "output_type": "stream",
     "text": [
      "/home/jaimerz/anaconda3/envs/gitd/lib/python3.10/site-packages/heracles/fields.py:256: UserWarning: position and visibility maps have different NSIDE\n",
      "  warnings.warn(\"position and visibility maps have different NSIDE\")\n"
     ]
    },
    {
     "ename": "",
     "evalue": "",
     "output_type": "error",
     "traceback": [
      "\u001b[1;31mThe Kernel crashed while executing code in the the current cell or a previous cell. Please review the code in the cell(s) to identify a possible cause of the failure. Click <a href='https://aka.ms/vscodeJupyterKernelCrash'>here</a> for more info. View Jupyter <a href='command:jupyter.viewOutput'>log</a> for further details."
     ]
    }
   ],
   "source": [
    "maps = map_catalogs(mapper, fields, catalogs, parallel=True, progress=False)"
   ]
  },
  {
   "cell_type": "markdown",
   "metadata": {},
   "source": [
    "The resulting `maps` dictionary has keys consisting of a field key (`\"P\"`, `\"G\"`) and a catalogue key (`0`, `1`, ...). Results from *Heracles* are always of this form, which we call \"toc dicts\", short for \"table of contents dictionaries\" from how the data was originally written to disk."
   ]
  },
  {
   "cell_type": "code",
   "execution_count": null,
   "metadata": {},
   "outputs": [],
   "source": [
    "list(maps.keys())[:8] + ['...']"
   ]
  },
  {
   "cell_type": "markdown",
   "metadata": {},
   "source": [
    "### Playground"
   ]
  },
  {
   "cell_type": "markdown",
   "metadata": {},
   "source": [
    "We can take a quick look at the maps for a tomographic bin ID, say 3."
   ]
  },
  {
   "cell_type": "code",
   "execution_count": null,
   "metadata": {},
   "outputs": [],
   "source": [
    "i = 3\n",
    "\n",
    "fig, ax = plt.subplots(2, 2, figsize=(12, 8))\n",
    "fig.tight_layout()\n",
    "plt.sca(ax[0, 0])\n",
    "hp.cartview(maps['P', i], title='P', cmap='binary', min=-1., max=4., hold=True,\n",
    "            lonra=[60, 150], latra=[20, 65])\n",
    "ax[0, 1].axis('off')\n",
    "plt.sca(ax[1, 0])\n",
    "hp.cartview(maps['G', i][0], title='G1', cmap='RdGy', min=-0.1, max=0.1, hold=True,\n",
    "            lonra=[60, 150], latra=[20, 65])\n",
    "plt.sca(ax[1, 1])\n",
    "hp.cartview(maps['G', i][1], title='G2', cmap='RdGy', min=-0.1, max=0.1, hold=True,\n",
    "            lonra=[60, 150], latra=[20, 65])\n",
    "plt.show()"
   ]
  },
  {
   "cell_type": "markdown",
   "metadata": {},
   "source": [
    "## Alms"
   ]
  },
  {
   "cell_type": "markdown",
   "metadata": {},
   "source": [
    "Since we are working in harmonic space, the real-space maps we created so far are not what we are actually after. We therefore transform them into harmonic-space maps (i.e. $a_{lm}$) using the `transform_maps()` function.  The function will also remove the HEALPix pixel window function, unless `deconvolve=False` is passed."
   ]
  },
  {
   "cell_type": "code",
   "execution_count": null,
   "metadata": {},
   "outputs": [],
   "source": [
    "from heracles.maps import transform_maps"
   ]
  },
  {
   "cell_type": "code",
   "execution_count": null,
   "metadata": {},
   "outputs": [],
   "source": [
    "alms = transform_maps(maps, lmax=lmax, progress=True)"
   ]
  },
  {
   "cell_type": "markdown",
   "metadata": {},
   "source": [
    "The resulting `alm` object is another toc dict with keys for map ID (`P`, `G_E`, `G_B`) and bin ID."
   ]
  },
  {
   "cell_type": "code",
   "execution_count": null,
   "metadata": {},
   "outputs": [],
   "source": [
    "list(alms.keys())[:9] + ['...']"
   ]
  },
  {
   "cell_type": "markdown",
   "metadata": {},
   "source": [
    "## Two-point statistics"
   ]
  },
  {
   "cell_type": "markdown",
   "metadata": {},
   "source": [
    "We are now able to compute the two-point statistics in the form of angular power spectra. We simply call the `angular_power_spectrum()` function on the `alms`. The function will also remove the noise bias from the spectra (unless `debias=False` is passed), and can optionally compute binned spectra (using the `bins=` and `weights=` parameters)."
   ]
  },
  {
   "cell_type": "code",
   "execution_count": null,
   "metadata": {},
   "outputs": [],
   "source": [
    "from heracles.twopoint import angular_power_spectra"
   ]
  },
  {
   "cell_type": "code",
   "execution_count": null,
   "metadata": {},
   "outputs": [],
   "source": [
    "cls = angular_power_spectra(alms, lmax=lmax)"
   ]
  },
  {
   "cell_type": "markdown",
   "metadata": {},
   "source": [
    "We could limit the `cls` we want computed using the `include=` and `exclude=` parameters to `angular_power_specta()`, but here we have computed all combinations. They are very many, arranged in a toc dict with entries such as `('P', 'G_E', 5, 4)` for the position and *E*-mode angular power spectrum between bin IDs 5 and 4 (in order)."
   ]
  },
  {
   "cell_type": "code",
   "execution_count": null,
   "metadata": {},
   "outputs": [],
   "source": [
    "list(cls.keys())[:6] + ['...'] + list(cls.keys())[-6:]"
   ]
  },
  {
   "cell_type": "markdown",
   "metadata": {},
   "source": [
    "## Mixing matrices"
   ]
  },
  {
   "cell_type": "markdown",
   "metadata": {},
   "source": [
    "The second observational effect is that we do not have data over the entire sky, but are limited by the survey footprint and visibility. This effect is modelled at the level of two-point statistics by the so-called mixing matrices."
   ]
  },
  {
   "cell_type": "markdown",
   "metadata": {},
   "source": [
    "Computing the mixing matrices requires separate maps for the visibility and shear weights in each tomographic bin. The mixing matrices for angular power spectra up to `lmax` require `2*lmax` angular modes themselves, so we double the resolution."
   ]
  },
  {
   "cell_type": "code",
   "execution_count": null,
   "metadata": {},
   "outputs": [],
   "source": [
    "nside_mm = 2*nside\n",
    "lmax_mm = 2*lmax"
   ]
  },
  {
   "cell_type": "markdown",
   "metadata": {},
   "source": [
    "We now use the same catalogues to create the visibility and weight maps, using the `map_catalogs()` function as before. Of course, we could have also computed all maps in one go."
   ]
  },
  {
   "cell_type": "code",
   "execution_count": null,
   "metadata": {},
   "outputs": [],
   "source": [
    "from heracles.fields import Visibility, Weights"
   ]
  },
  {
   "cell_type": "code",
   "execution_count": null,
   "metadata": {},
   "outputs": [],
   "source": [
    "# visibility maps are taken as-is from catalogue, so no columns\n",
    "fields_mm = {\n",
    "    'V': Visibility(),\n",
    "    'W': Weights(*lonlat, 'WEIGHT'),\n",
    "}\n",
    "\n",
    "# mapper at mixing matrix resolution\n",
    "mapper_mm = Healpix(nside_mm)\n",
    "\n",
    "maps_mm = map_catalogs(mapper_mm, fields_mm, catalogs, parallel=True, progress=True)"
   ]
  },
  {
   "cell_type": "markdown",
   "metadata": {},
   "source": [
    "The output has the same format as earlier, but now contains `V` and `W` maps as expected."
   ]
  },
  {
   "cell_type": "code",
   "execution_count": null,
   "metadata": {},
   "outputs": [],
   "source": [
    "list(maps_mm.keys())[:15]"
   ]
  },
  {
   "cell_type": "markdown",
   "metadata": {},
   "source": [
    "Next we transform the maps for the mixing matrices ..."
   ]
  },
  {
   "cell_type": "code",
   "execution_count": null,
   "metadata": {},
   "outputs": [],
   "source": [
    "alms_mm = transform_maps(maps_mm, progress=True, lmax=lmax_mm)"
   ]
  },
  {
   "cell_type": "markdown",
   "metadata": {},
   "source": [
    "... and compute their angular power spectra."
   ]
  },
  {
   "cell_type": "code",
   "execution_count": null,
   "metadata": {
    "scrolled": true
   },
   "outputs": [],
   "source": [
    "cls_mm = angular_power_spectra(alms_mm, lmax=lmax_mm)"
   ]
  },
  {
   "cell_type": "markdown",
   "metadata": {},
   "source": [
    "With the angular power spectra of visibility and weight maps available, we can compute all mixing matrices with the `mixing_matrices()` function. The function can optionally compute mixing matrices for binned spectra using the `bins=` and `weights=` parameters."
   ]
  },
  {
   "cell_type": "code",
   "execution_count": null,
   "metadata": {},
   "outputs": [],
   "source": [
    "from heracles.twopoint import mixing_matrices"
   ]
  },
  {
   "cell_type": "code",
   "execution_count": null,
   "metadata": {},
   "outputs": [],
   "source": [
    "mms = mixing_matrices(fields, cls_mm, l1max=lmax, l2max=lmax, l3max=lmax_mm, progress=True)"
   ]
  },
  {
   "cell_type": "markdown",
   "metadata": {},
   "source": [
    "The mixing matrices are returned in a toc dict with familiar names: They correspond to the _output_ angular power spectra after mixing by a given matrix:\n",
    "\n",
    "* `P, P` for `(P, P) → (P, P)`;\n",
    "* `P, G_E` for `(P, G_E) → (P, G_E)`, as well as `(P, G_B) → (P, G_B)`;\n",
    "* `G_E, G_E` for `(G_E, G_E) → (G_E, G_E)`, as well as `(G_B, G_B) → (G_B, G_B)`;\n",
    "* `G_B, G_B` for `(G_E, G_E) → (G_B, G_B)`, as well as `(G_B, G_B) → (G_E, G_E)`;\n",
    "* `G_E, G_B` for `(G_E, G_B) → (G_E, G_B)`.\n",
    "\n",
    "For more details, see e.g. the paper by Brown, Castro & Taylor (2005)."
   ]
  },
  {
   "cell_type": "code",
   "execution_count": null,
   "metadata": {},
   "outputs": [],
   "source": [
    "list(mms.keys())[:6] + ['...'] + list(mms.keys())[-6:]"
   ]
  },
  {
   "cell_type": "markdown",
   "metadata": {},
   "source": [
    "### Playground"
   ]
  },
  {
   "cell_type": "markdown",
   "metadata": {},
   "source": [
    "Have a look at the visibility and weight map for a bin ID, say 7."
   ]
  },
  {
   "cell_type": "code",
   "execution_count": null,
   "metadata": {},
   "outputs": [],
   "source": [
    "i = 7\n",
    "\n",
    "fig, ax = plt.subplots(1, 2, figsize=(12, 8))\n",
    "fig.tight_layout()\n",
    "plt.sca(ax[0])\n",
    "hp.cartview(maps_mm['V', i], title='V', cmap='binary', hold=True,\n",
    "            lonra=[60, 150], latra=[20, 65])\n",
    "plt.sca(ax[1])\n",
    "hp.cartview(maps_mm['W', i], title='W', cmap='binary', hold=True,\n",
    "            lonra=[60, 150], latra=[20, 65])\n",
    "plt.show()"
   ]
  },
  {
   "cell_type": "markdown",
   "metadata": {},
   "source": [
    "Let's also look at one of the resulting mixing matrices, say the `++` one."
   ]
  },
  {
   "cell_type": "code",
   "execution_count": null,
   "metadata": {},
   "outputs": [],
   "source": [
    "plt.imshow(mms['G_E', 'G_E', i, i], cmap='binary',\n",
    "            norm=mpl.colors.LogNorm(vmin=1e-7))\n",
    "plt.colorbar(pad=0.025, fraction=0.0465)\n",
    "plt.show()"
   ]
  },
  {
   "cell_type": "markdown",
   "metadata": {},
   "source": [
    "## Theory"
   ]
  },
  {
   "cell_type": "markdown",
   "metadata": {},
   "source": [
    "The final piece of the puzzle is a set of theory angular power spectra that model the full sky signal. Here we use *CAMB* to get a quick and dirty approximation of what the proper theory spectra might look like."
   ]
  },
  {
   "cell_type": "code",
   "execution_count": null,
   "metadata": {},
   "outputs": [],
   "source": [
    "import camb\n",
    "from camb.sources import SplinedSourceWindow"
   ]
  },
  {
   "cell_type": "markdown",
   "metadata": {},
   "source": [
    "We set the *CAMB* cosmology to match the *Flagship2* simulation, which is\n",
    "\n",
    "* $\\Omega_m = 0.319$,\n",
    "* $\\Omega_b = 0.049$,\n",
    "* $\\Omega_\\Lambda + \\Omega_\\gamma = 0.681$,\n",
    "* $A_s = 2.1 \\cdot 10^{-9}$,\n",
    "* $n_s = 0.96$,\n",
    "* $h = 0.67$.\n",
    "\n",
    "Also set some other properties that come straight from the *CAMBdemo* notebook."
   ]
  },
  {
   "cell_type": "code",
   "execution_count": null,
   "metadata": {},
   "outputs": [],
   "source": [
    "pars = camb.CAMBparams()\n",
    "pars.set_cosmology(H0=67., omch2=0.270*0.67**2, ombh2=0.049*0.67**2)\n",
    "pars.InitPower.set_params(As=2.1e-9, ns=0.96)\n",
    "pars.Want_CMB = False \n",
    "pars.NonLinear = camb.model.NonLinear_both\n",
    "pars.set_for_lmax(lmax, lens_potential_accuracy=1)"
   ]
  },
  {
   "cell_type": "markdown",
   "metadata": {},
   "source": [
    "We need the redshift distributions for the tomographic bins. For the real data, these will be provided by *OU-PHZ* in some *TBD* format. Here, we use the file from the *Flagship2* catalogue for *LE3-WL* without asking any further questions."
   ]
  },
  {
   "cell_type": "code",
   "execution_count": null,
   "metadata": {},
   "outputs": [],
   "source": [
    "nz = fitsio.read('nz_wlfs2_dr1n_vis24.5_nomag.fits')"
   ]
  },
  {
   "cell_type": "markdown",
   "metadata": {},
   "source": [
    "To compute the theory spectra of the galaxy number counts, we need the bias factor between matter and galaxies. This is a bias factor fitted to *Flagship2*, kindly provided by Isaac Tutusaus."
   ]
  },
  {
   "cell_type": "code",
   "execution_count": null,
   "metadata": {},
   "outputs": [],
   "source": [
    "z = nz['Z_MID']\n",
    "bz = 0.83070341 + 1.19054721*z - 0.92835749*z**2 + 0.42329232*z**3"
   ]
  },
  {
   "cell_type": "markdown",
   "metadata": {},
   "source": [
    "Given redshift distributions and bias factor, we can construct the *CAMB* source distributions for positions (counts) and shears (lensing)."
   ]
  },
  {
   "cell_type": "code",
   "execution_count": null,
   "metadata": {},
   "outputs": [],
   "source": [
    "sources = []\n",
    "for i in range(len(catalogs)):\n",
    "    nz_i = nz[f'BIN{i}']\n",
    "    sources += [\n",
    "        SplinedSourceWindow(source_type='counts', z=z, W=nz_i, bias_z=bz),\n",
    "        SplinedSourceWindow(source_type='lensing', z=z, W=nz_i),\n",
    "    ]\n",
    "pars.SourceWindows = sources"
   ]
  },
  {
   "cell_type": "markdown",
   "metadata": {},
   "source": [
    "Use the `pars` we constructed above to compute the full sky theory spectra up to `lmax`, setting `raw_cl=True` to return unscaled $C_l$ values."
   ]
  },
  {
   "cell_type": "code",
   "execution_count": null,
   "metadata": {},
   "outputs": [],
   "source": [
    "results = camb.get_results(pars)\n",
    "camb_cls = results.get_source_cls_dict(lmax=lmax, raw_cl=True)"
   ]
  },
  {
   "cell_type": "markdown",
   "metadata": {},
   "source": [
    "This is the factor that's needed to convert from convergence to shear $C_l$."
   ]
  },
  {
   "cell_type": "code",
   "execution_count": null,
   "metadata": {},
   "outputs": [],
   "source": [
    "l = np.arange(lmax+1)\n",
    "fl = -np.sqrt((l+2)*(l+1)*l*(l-1))\n",
    "fl /= np.clip(l*(l+1), 1, None)"
   ]
  },
  {
   "cell_type": "markdown",
   "metadata": {},
   "source": [
    "Now we can compute the theory spectra for our observations, using the *CAMB* results and the mixing matrices we computed earlier. We store everything in a toc dict using the same format as before."
   ]
  },
  {
   "cell_type": "code",
   "execution_count": null,
   "metadata": {},
   "outputs": [],
   "source": [
    "from heracles.core import TocDict\n",
    "\n",
    "theory_cls = TocDict()\n",
    "for i, s1 in enumerate(sources):\n",
    "    for j, s2 in enumerate(sources[i:]):\n",
    "        i1, i2 = i//2, (i+j)//2\n",
    "\n",
    "        cl = camb_cls[f'W{i+1}xW{i+j+1}']\n",
    "\n",
    "        if s1.source_type == 'counts' and s2.source_type == 'counts':\n",
    "            theory_cls['P', 'P', i1, i2] = mms['P', 'P', i1, i2] @ cl\n",
    "        elif s1.source_type == 'lensing' and s2.source_type == 'lensing':\n",
    "            theory_cls['G_E', 'G_E', i1, i2] = mms['G_E', 'G_E', i1, i2] @ (cl*fl**2)\n",
    "            theory_cls['G_B', 'G_B', i1, i2] = mms['G_B', 'G_B', i1, i2] @ (cl*fl**2)\n",
    "        elif s1.source_type == 'counts' and s2.source_type == 'lensing':\n",
    "            theory_cls['P', 'G_E', i1, i2] = mms['P', 'G_E', i1, i2] @ (cl*fl)\n",
    "            theory_cls['P', 'G_B', i1, i2] = np.zeros_like(cl)\n",
    "        elif s1.source_type == 'lensing' and s2.source_type == 'counts':\n",
    "            theory_cls['P', 'G_E', i2, i1] = mms['P', 'G_E', i2, i1] @ (cl*fl)\n",
    "            theory_cls['P', 'G_B', i2, i1] = np.zeros_like(cl)"
   ]
  },
  {
   "cell_type": "markdown",
   "metadata": {},
   "source": [
    "## Results"
   ]
  },
  {
   "cell_type": "markdown",
   "metadata": {},
   "source": [
    "Without much further ado, let's plot the results for positions and shears.  Fortunately, *Heracles* has plot routines which make this very easy."
   ]
  },
  {
   "cell_type": "code",
   "execution_count": null,
   "metadata": {},
   "outputs": [],
   "source": [
    "from heracles.plot import postage_stamps"
   ]
  },
  {
   "cell_type": "code",
   "execution_count": null,
   "metadata": {},
   "outputs": [],
   "source": [
    "postage_stamps([cls[\"G_E\", \"G_E\"] | cls[\"G_B\", \"G_B\"],\n",
    "                theory_cls[\"G_E\", \"G_E\"] | theory_cls[\"G_B\", \"G_B\"]],\n",
    "               [cls[\"P\", \"P\"],\n",
    "                theory_cls[\"P\", \"P\"]],\n",
    "               trxshift=2)\n",
    "plt.show()"
   ]
  },
  {
   "cell_type": "code",
   "execution_count": null,
   "metadata": {},
   "outputs": [],
   "source": [
    "postage_stamps([cls[\"P\", \"G_E\"] | cls[\"P\", \"G_B\"],\n",
    "                theory_cls[\"P\", \"G_E\"] | theory_cls[\"P\", \"G_B\"]])\n",
    "plt.show()"
   ]
  },
  {
   "cell_type": "markdown",
   "metadata": {},
   "source": [
    "While agreement is not perfect, it's good enough, given how haphazardly we have performed the analysis and modelling of the expectation. We can certainly do better: For example, the missing power in the clustering signal at the lower end is likely due to the finite box size of the simulation, and associated lack of large-scale density perturbations (hat tip to Alex Hall for pointing this out). And there are intrinsic alignments in the simulation, but not in the theory. All of this and more must be modelled properly in a serious analysis."
   ]
  },
  {
   "cell_type": "code",
   "execution_count": null,
   "metadata": {},
   "outputs": [],
   "source": []
  }
 ],
 "metadata": {
  "kernelspec": {
   "display_name": "Python 3 (ipykernel)",
   "language": "python",
   "name": "python3"
  },
  "language_info": {
   "codemirror_mode": {
    "name": "ipython",
    "version": 3
   },
   "file_extension": ".py",
   "mimetype": "text/x-python",
   "name": "python",
   "nbconvert_exporter": "python",
   "pygments_lexer": "ipython3",
   "version": "3.10.14"
  }
 },
 "nbformat": 4,
 "nbformat_minor": 4
}
