{
 "cells": [
  {
   "cell_type": "markdown",
   "metadata": {},
   "source": [
    "# Covariance for Angular Power Spectra with *Heracles*"
   ]
  },
  {
   "cell_type": "markdown",
   "metadata": {},
   "source": [
    "This notebook demonstrates how *Heracles* computes an estimate of the covariance of the two-point statistics from a 3×2pt catalogue using the DICES method. This tutorial is heavily based on the summary statisitcs tutorial so we will reproduce the results found in said tutorial without going into the details of the analysis. We will then show how to compute the covariance of the angular power spectra using *Heracles*."
   ]
  },
  {
   "cell_type": "markdown",
   "metadata": {},
   "source": [
    "<div class=\"alert alert-info\">\n",
    "\n",
    "**Important note**\n",
    "\n",
    "This notebook is only meant to give you an idea of **how *Heracles* works**.\n",
    "\n",
    "It does **not** show everything that *Heracles* can do.\n",
    "\n",
    "**This is a toy, treat it is such!**\n",
    "\n",
    "</div>"
   ]
  },
  {
   "cell_type": "markdown",
   "metadata": {},
   "source": [
    "## Setup"
   ]
  },
  {
   "cell_type": "code",
   "execution_count": 1,
   "metadata": {},
   "outputs": [
    {
     "data": {
      "application/vnd.jupyter.widget-view+json": {
       "model_id": "692b6363955e4b96811adfe95a466e09",
       "version_major": 2,
       "version_minor": 0
      },
      "text/plain": [
       "VBox()"
      ]
     },
     "metadata": {},
     "output_type": "display_data"
    }
   ],
   "source": [
    "import numpy as np\n",
    "import healpy as hp\n",
    "import matplotlib.pyplot as plt\n",
    "import heracles\n",
    "import heracles.healpy\n",
    "from heracles.notebook import Progress\n",
    "\n",
    "# Covariance code\n",
    "import heracles.dices as dices\n",
    "\n",
    "import helpers\n",
    "\n",
    "with Progress(\"example data\") as progress:\n",
    "    helpers.get_example_data(progress)"
   ]
  },
  {
   "cell_type": "markdown",
   "metadata": {},
   "source": [
    "## Basic parameters"
   ]
  },
  {
   "cell_type": "markdown",
   "metadata": {},
   "source": [
    "This is the resolution parameter for measuring spectra from *HEALPix* maps.  Here, we use `nside = 128` since that is the resolution at which the example data has been created. A value `lmax` of approximate 1.5x `nside` is fairly safe in terms of errors introduced by *HEALPix*. For the purpose of this tutorial we will only use 3 tomographic bins."
   ]
  },
  {
   "cell_type": "code",
   "execution_count": 2,
   "metadata": {},
   "outputs": [],
   "source": [
    "nside = 128\n",
    "lmax = 150\n",
    "nbins = 3"
   ]
  },
  {
   "cell_type": "markdown",
   "metadata": {},
   "source": [
    "## Prepare maps"
   ]
  },
  {
   "cell_type": "markdown",
   "metadata": {},
   "source": [
    "For this tutorial we will use the same data as in the summary statistics tutorial. Note that the maps generated in the summary statistics tutorial might have a different resolution. Therefore we will have to up/down-scale them accordingly. Doing so, unfortunately destroys the metadata of the maps. Therefore we will have to manually re-enter the metadata."
   ]
  },
  {
   "cell_type": "code",
   "execution_count": 3,
   "metadata": {},
   "outputs": [],
   "source": [
    "from heracles.healpy import HealpixMapper\n",
    "from heracles.fields import Positions, Shears, Visibility, Weights\n",
    "\n",
    "data_maps = heracles.read_maps(\"example-data_maps.fits\")\n",
    "mapper = HealpixMapper(nside=nside, lmax=lmax)\n",
    "fields = {\n",
    "    \"POS\": Positions(mapper, mask=\"VIS\"),\n",
    "    \"SHE\": Shears(mapper, mask=\"WHT\"),\n",
    "    \"VIS\": Visibility(mapper),\n",
    "    \"WHT\": Weights(mapper),\n",
    "}"
   ]
  },
  {
   "cell_type": "code",
   "execution_count": 4,
   "metadata": {},
   "outputs": [],
   "source": [
    "data_maps = heracles.read_maps(\"example-data_maps.fits\")\n",
    "for key in list(data_maps.keys()):\n",
    "    f, i = key\n",
    "    if i <= nbins:\n",
    "        _map = data_maps[key]\n",
    "        meta = _map.dtype.metadata\n",
    "        new_map = hp.ud_grade(_map, nside)\n",
    "        heracles.update_metadata(\n",
    "            new_map,\n",
    "            nside=nside,\n",
    "            lmax=lmax,\n",
    "            bias=meta[\"bias\"],\n",
    "            fsky=meta[\"fsky\"],\n",
    "            spin=meta[\"spin\"],\n",
    "        )\n",
    "        data_maps[key] = new_map\n",
    "    else:\n",
    "        data_maps.pop(key)\n",
    "\n",
    "# load the FITS mask\n",
    "vis_map = hp.read_map(\"vmap.fits.gz\")\n",
    "vis_map[vis_map == hp.UNSEEN] = 0.0\n",
    "vis_map = hp.ud_grade(vis_map, nside)\n",
    "heracles.update_metadata(\n",
    "            vis_map,\n",
    "            nside=nside,\n",
    "            lmax=lmax,\n",
    "            bias=0.0,\n",
    "            fsky=meta[\"fsky\"],\n",
    "            spin=0,\n",
    "        )\n",
    "vis_maps = {}\n",
    "for key in list(data_maps.keys()):\n",
    "    f, i = key\n",
    "    if f == \"POS\":\n",
    "        f = \"VIS\"\n",
    "    if f == \"SHE\":\n",
    "        f = \"WHT\"\n",
    "    key = (f, i)\n",
    "    vis_maps[key] = vis_map"
   ]
  },
  {
   "cell_type": "markdown",
   "metadata": {},
   "source": [
    "## Jackknife Regions"
   ]
  },
  {
   "cell_type": "markdown",
   "metadata": {},
   "source": [
    "The fundamental idea behind Jackknife approaches is to generate an ensemble of angular power spectra by leaving out one of the regions at a time. The covariance of the angular power spectra can then be estimated from the variance of the ensemble. Therefore, the first step is to divide the mask of the survey into regions. In order to do so, in this tutorial we will make use of the SkySegmentor library. However, any library that segments the sky into regions can be used."
   ]
  },
  {
   "cell_type": "code",
   "execution_count": 5,
   "metadata": {},
   "outputs": [],
   "source": [
    "import skysegmentor"
   ]
  },
  {
   "cell_type": "code",
   "execution_count": 6,
   "metadata": {},
   "outputs": [],
   "source": [
    "jk_maps = {}\n",
    "Njk = 10\n",
    "jk_map = skysegmentor.segmentmapN(vis_map, Njk)\n",
    "for key in list(vis_maps.keys()):\n",
    "    jk_maps[key] = jk_map"
   ]
  },
  {
   "cell_type": "code",
   "execution_count": 7,
   "metadata": {},
   "outputs": [
    {
     "data": {
      "image/png": "[encoded data removed]",
      "text/plain": [
       "<Figure size 850x540 with 2 Axes>"
      ]
     },
     "metadata": {},
     "output_type": "display_data"
    }
   ],
   "source": [
    "hp.mollview(jk_maps[(\"VIS\", 1)])"
   ]
  },
  {
   "cell_type": "markdown",
   "metadata": {},
   "source": [
    "## Two-point statistics"
   ]
  },
  {
   "cell_type": "markdown",
   "metadata": {},
   "source": [
    "Since the computation of the two-point statistics was already covered in the summary statistics tutorial, we will not go into the details of the analysis. We will simply load the results from the summary statistics tutorial and use them to compute the covariance of the angular power spectra."
   ]
  },
  {
   "cell_type": "code",
   "execution_count": 8,
   "metadata": {},
   "outputs": [
    {
     "name": "stdout",
     "output_type": "stream",
     "text": [
      " - Computing Cls for regions (0,0)\r"
     ]
    }
   ],
   "source": [
    "cls0 = dices.jackknife_cls(data_maps, vis_maps, jk_maps, fields, nd=0)[()]"
   ]
  },
  {
   "cell_type": "markdown",
   "metadata": {},
   "source": [
    "## Theory"
   ]
  },
  {
   "cell_type": "markdown",
   "metadata": {},
   "source": [
    "Similarly, in this tutorial we will limit ourselves to loading the thoeory power spectra from the summary statistics tutorial."
   ]
  },
  {
   "cell_type": "code",
   "execution_count": 9,
   "metadata": {},
   "outputs": [],
   "source": [
    "theory = heracles.read(\"example-theory.fits\")\n",
    "theory_cls = {}\n",
    "for key in list(cls0.keys()):\n",
    "    theory_cls[key] = theory[key][..., : lmax + 1]"
   ]
  },
  {
   "cell_type": "markdown",
   "metadata": {},
   "source": [
    "## Ensemble Computation"
   ]
  },
  {
   "cell_type": "markdown",
   "metadata": {},
   "source": [
    "Compute the ensemble of angular power spectrum effectively boils down to repeating the process presented in the two-point statistics section removing one of the jackknife regions at a time. However, a couple of extra considerations have to be made.\n",
    "\n",
    "\n",
    "When computing the angular power spectra from catalogues, removing one of the jackknife regions changes the sample variance of the angular power spectra by a factor of \n",
    "$$\n",
    "b_{jk} = b (1-\\frac{1}{N})\n",
    "$$\n",
    "\n",
    "Moreover, removing of the jackknife regions also changes the footprint of the survey which can introduce additional mixing betweeen E- and B-modes. Heracles is equiped with a mask correction routine that corrects for this effect by transforming the angular power spectra to real space, dividing the correlation function of the ratio of new footprint to the old footprint and transforming back to harmonic space. \n",
    "$$\n",
    " C_\\ell \\rightarrow \\xi(\\theta) \\\\\n",
    " M_\\ell \\rightarrow \\xi_m(\\theta) \\\\\n",
    " M^{\\rm jk}(\\theta) \\rightarrow \\xi^{\\rm jk}_m(\\theta) \\\\\n",
    "$$\n",
    "$$\n",
    "\\bar{\\xi}(\\theta) = \\xi(\\theta) \\frac{\\xi_m(\\theta)}{\\xi^{\\rm jk}_m(\\theta)} \\\\\n",
    "$$\n",
    "$$\n",
    "\\bar{\\xi}(\\theta) \\rightarrow \\bar{C}_\\ell\n",
    "$$"
   ]
  },
  {
   "cell_type": "code",
   "execution_count": 10,
   "metadata": {},
   "outputs": [
    {
     "name": "stdout",
     "output_type": "stream",
     "text": [
      " - Computing Cls for regions (10,0)\r"
     ]
    }
   ],
   "source": [
    "cls1 = dices.jackknife_cls(data_maps, vis_maps, jk_maps, fields, nd=1)"
   ]
  },
  {
   "cell_type": "markdown",
   "metadata": {},
   "source": [
    "To add numerically stability to our computations, we will also bin the ensemble of angular power spectra."
   ]
  },
  {
   "cell_type": "code",
   "execution_count": 11,
   "metadata": {},
   "outputs": [],
   "source": [
    "nlbins = 10\n",
    "ell = np.arange(lmax + 1)\n",
    "ledges = np.logspace(np.log10(10), np.log10(lmax), nlbins + 1)\n",
    "lgrid = (ledges[1:] + ledges[:-1]) / 2"
   ]
  },
  {
   "cell_type": "code",
   "execution_count": 12,
   "metadata": {},
   "outputs": [],
   "source": [
    "cqs0 = heracles.binned(cls0, ledges)\n",
    "cqs1 = heracles.binned(cls1, ledges)"
   ]
  },
  {
   "cell_type": "markdown",
   "metadata": {},
   "source": [
    "## Delete1 Covariance\n",
    "\n",
    "The delete-one covariance is computed by measuring the covariance matrix of the ensemble of delete-one angular power spectra. The covariance matrix of an ensemble of $K$ vector variables $x \\in \\mathbb{R}^N$ is defined as:\n",
    "$$\n",
    "\\mathbb{C}_{ij} = \\mathbb{E} \\left[ (x_i - \\bar{x_i}) (x_j - \\bar{x_j})^T \\right]_k \\, ,\n",
    "$$\n",
    "where $\\bar{x_i} = \\mathbb{E}[x_{ik}]_k = \\frac{1}{K} \\sum_k^K x_{ik}$ is the mean over the ensemble. Therefore, one can define any covariance matrix as an expectation over an ensemble of matrices with entries:\n",
    "$$\n",
    "W(x)_{ijk} = (x_{ik} - \\bar{x_i}) (x_{jk} - \\bar{x_j}) \\, .\n",
    "$$\n",
    "such that $\\mathbb{C}_{ij} = \\mathbb{E} [W(x)_{ijk}]_k$.\n",
    "\n",
    "In order to use formalism above to compute the delete-one covariance we have to start by generating an ensemble of concatenated angular power spectra. In other words, assume we are computing the angular power spectra of $F$ fields combinations, we have to go to $F$ ensembles of K entries, where each entry angular power spectrum is a vector of $N$ elements to an ensemble of $K$ entries where each entry vector has $F \\times N$ elements. We will refer to the concatenated angular power spectra as the ensemble of data vectors $d^1 \\in \\mathbb{R}^{F \\times N}$. Substitutin $x$ for $d$ in the previous equation, the computation of the delete-one covariance is then given by:\n",
    "$$\n",
    "\\mathbb{C}^{\\rm JK}_{ij} = (K-1) \\mathbb{E} [W(d^1)_{ijk}]_k \\, .\n",
    "$$\n",
    "\n",
    "Analyzing the equation above we can understand better the Jackknife approach. As we increase the number of jackknife regions, the size of each indiviual regions decreases meaning that\n",
    "$$\n",
    "\\rm{lim}_{K \\rightarrow \\infty} (d_{ik} - \\bar{d_i}) = 0 \\, ,\n",
    "$$\n",
    "such that $W_{ijk} \\rightarrow 0$ and thus $\\mathbb{E} [W_{ijk}]_k \\rightarrow 0$.\n",
    "However, the prefactor $(K-1)$ ensures that the Jackknige covariance doesn't vanish as $K$ increases."
   ]
  },
  {
   "cell_type": "code",
   "execution_count": 13,
   "metadata": {},
   "outputs": [],
   "source": [
    "cov_jk = dices.jackknife_covariance(list(cqs1.values()))"
   ]
  },
  {
   "cell_type": "code",
   "execution_count": 14,
   "metadata": {},
   "outputs": [
    {
     "data": {
      "image/png": "[encoded data removed]",
      "text/plain": [
       "<Figure size 640x480 with 2 Axes>"
      ]
     },
     "metadata": {},
     "output_type": "display_data"
    }
   ],
   "source": [
    "plt.imshow(cov_jk[(\"POS\", \"POS\", \"POS\", \"POS\", 1, 1, 1, 1)], \n",
    "           vmin=-2.5*10**-14, vmax=2.5*10**-14, cmap=\"seismic\")\n",
    "plt.colorbar()\n",
    "plt.title(\"Delete-1 covariance\")\n",
    "plt.ylabel(r\"$\\ell$\")\n",
    "plt.xlabel(r\"$\\ell$\")\n",
    "plt.show()"
   ]
  },
  {
   "cell_type": "markdown",
   "metadata": {},
   "source": [
    "## Shrinkage"
   ]
  },
  {
   "cell_type": "markdown",
   "metadata": {},
   "source": [
    "To improve the stability of the off-diagonal elements of the covariance matrix, we can apply a linear shrinkage to a Gaussian target. Since we don't have access to theory $C_{\\ell}'s$, the Gaussian target is computed from the mean $C_{\\ell}$'s in the ensemble using the known formula:\n",
    "$$\n",
    "\\mathbb{G}^{abcd} = \\frac{(C_{\\ell}^{ab}+b^{ab}) (C_{\\ell}^{cd}+b^{cd}) + (C_{\\ell}^{ac}+b^{ac}) (C_{\\ell}^{bd}+b^{bd})}{2 \\ell + 1} \\, ,\n",
    "$$\n",
    "withour taking into account the partial sky.\n",
    "\n",
    "To ensure that the diagonal elements of $\\mathbb{C}^1$ remain unchanged, we modify $\\mathbb{G}$ as:\n",
    "$$\n",
    "\\tilde{\\mathbb{G}}_{ii} = \\mathbb{C}^{\\rm JK}_{ii} \\\\\n",
    "\\tilde{\\mathbb{G}}_{ij} = \\mathbb{G}_{ij} \\sqrt{\\mathbb{C}^{\\rm JK}_{ii} \\mathbb{C}^{\\rm JK}_{ij}}\\, .\n",
    "$$\n",
    "The shrunk covariance matrix is then given by:\n",
    "$$\n",
    "\\mathbb{C}^{\\rm shrunk} = \\lambda \\tilde{\\mathbb{G}} + (1-\\lambda) \\mathbb{C}^{\\rm JK} \\, ,\n",
    "$$\n",
    "where $\\lambda$ is the shrinkage factor. The computation of the shrinkage factor is a complex process and is not covered in this tutorial."
   ]
  },
  {
   "cell_type": "code",
   "execution_count": 15,
   "metadata": {},
   "outputs": [
    {
     "name": "stdout",
     "output_type": "stream",
     "text": [
      "Shrinkage factor:  0.012058136208785935\n"
     ]
    }
   ],
   "source": [
    "theory_cqs = heracles.binned(theory_cls, ledges)\n",
    "target_cov = dices.gaussian_covariance(theory_cqs)\n",
    "shrinkage = dices.shrinkage_factor(cqs0, cqs1, target_cov)\n",
    "print(\"Shrinkage factor: \", shrinkage)"
   ]
  },
  {
   "cell_type": "code",
   "execution_count": 25,
   "metadata": {},
   "outputs": [
    {
     "data": {
      "text/plain": [
       "65"
      ]
     },
     "execution_count": 25,
     "metadata": {},
     "output_type": "execute_result"
    }
   ],
   "source": [
    "_theory_cov = dices.Components2Fields(cqs0, target_cov)\n",
    "len(_theory_cov)"
   ]
  },
  {
   "cell_type": "code",
   "execution_count": 27,
   "metadata": {},
   "outputs": [
    {
     "data": {
      "text/plain": [
       "21"
      ]
     },
     "execution_count": 27,
     "metadata": {},
     "output_type": "execute_result"
    }
   ],
   "source": [
    "len(cqs0)"
   ]
  },
  {
   "cell_type": "code",
   "execution_count": 31,
   "metadata": {},
   "outputs": [
    {
     "data": {
      "text/plain": [
       "[('POS', 'POS', 'POS', 'POS', 1, 1, 1, 1),\n",
       " ('POS', 'POS', 'POS', 'SHE', 1, 1, 1, 1),\n",
       " ('POS', 'POS', 'POS', 'POS', 1, 1, 1, 2),\n",
       " ('POS', 'POS', 'POS', 'SHE', 1, 1, 1, 2),\n",
       " ('POS', 'POS', 'POS', 'POS', 1, 1, 1, 3),\n",
       " ('POS', 'POS', 'POS', 'SHE', 1, 1, 1, 3),\n",
       " ('POS', 'POS', 'SHE', 'SHE', 1, 1, 1, 1),\n",
       " ('POS', 'POS', 'POS', 'SHE', 1, 1, 2, 1),\n",
       " ('POS', 'POS', 'SHE', 'SHE', 1, 1, 1, 2),\n",
       " ('POS', 'POS', 'POS', 'SHE', 1, 1, 3, 1),\n",
       " ('POS', 'POS', 'SHE', 'SHE', 1, 1, 1, 3),\n",
       " ('POS', 'POS', 'POS', 'POS', 1, 1, 2, 2),\n",
       " ('POS', 'POS', 'POS', 'SHE', 1, 1, 2, 2),\n",
       " ('POS', 'POS', 'POS', 'POS', 1, 1, 2, 3),\n",
       " ('POS', 'POS', 'POS', 'SHE', 1, 1, 2, 3),\n",
       " ('POS', 'POS', 'SHE', 'SHE', 1, 1, 2, 2),\n",
       " ('POS', 'POS', 'POS', 'SHE', 1, 1, 3, 2),\n",
       " ('POS', 'POS', 'SHE', 'SHE', 1, 1, 2, 3),\n",
       " ('POS', 'POS', 'POS', 'POS', 1, 1, 3, 3),\n",
       " ('POS', 'POS', 'POS', 'SHE', 1, 1, 3, 3),\n",
       " ('POS', 'POS', 'SHE', 'SHE', 1, 1, 3, 3),\n",
       " ('POS', 'SHE', 'POS', 'SHE', 1, 1, 1, 1),\n",
       " ('POS', 'SHE', 'POS', 'POS', 1, 1, 1, 2),\n",
       " ('POS', 'SHE', 'POS', 'SHE', 1, 1, 1, 2),\n",
       " ('POS', 'SHE', 'POS', 'POS', 1, 1, 1, 3),\n",
       " ('POS', 'SHE', 'POS', 'SHE', 1, 1, 1, 3),\n",
       " ('POS', 'SHE', 'SHE', 'SHE', 1, 1, 1, 1),\n",
       " ('POS', 'SHE', 'POS', 'SHE', 1, 1, 2, 1),\n",
       " ('POS', 'SHE', 'SHE', 'SHE', 1, 1, 1, 2),\n",
       " ('POS', 'SHE', 'POS', 'SHE', 1, 1, 3, 1),\n",
       " ('POS', 'SHE', 'SHE', 'SHE', 1, 1, 1, 3),\n",
       " ('POS', 'SHE', 'POS', 'POS', 1, 1, 2, 2),\n",
       " ('POS', 'SHE', 'POS', 'SHE', 1, 1, 2, 2),\n",
       " ('POS', 'SHE', 'POS', 'POS', 1, 1, 2, 3),\n",
       " ('POS', 'SHE', 'POS', 'SHE', 1, 1, 2, 3),\n",
       " ('POS', 'SHE', 'SHE', 'SHE', 1, 1, 2, 2),\n",
       " ('POS', 'SHE', 'POS', 'SHE', 1, 1, 3, 2),\n",
       " ('POS', 'SHE', 'SHE', 'SHE', 1, 1, 2, 3),\n",
       " ('POS', 'SHE', 'POS', 'POS', 1, 1, 3, 3),\n",
       " ('POS', 'SHE', 'POS', 'SHE', 1, 1, 3, 3),\n",
       " ('POS', 'SHE', 'SHE', 'SHE', 1, 1, 3, 3),\n",
       " ('POS', 'POS', 'POS', 'POS', 1, 2, 1, 2),\n",
       " ('POS', 'POS', 'POS', 'SHE', 1, 2, 1, 2),\n",
       " ('POS', 'POS', 'POS', 'POS', 1, 2, 1, 3),\n",
       " ('POS', 'POS', 'POS', 'SHE', 1, 2, 1, 3),\n",
       " ('POS', 'POS', 'SHE', 'SHE', 1, 2, 1, 1),\n",
       " ('POS', 'POS', 'POS', 'SHE', 1, 2, 2, 1),\n",
       " ('POS', 'POS', 'SHE', 'SHE', 1, 2, 1, 2),\n",
       " ('POS', 'POS', 'POS', 'SHE', 1, 2, 3, 1),\n",
       " ('POS', 'POS', 'SHE', 'SHE', 1, 2, 1, 3),\n",
       " ('POS', 'POS', 'POS', 'POS', 1, 2, 2, 2),\n",
       " ('POS', 'POS', 'POS', 'SHE', 1, 2, 2, 2),\n",
       " ('POS', 'POS', 'POS', 'POS', 1, 2, 2, 3),\n",
       " ('POS', 'POS', 'POS', 'SHE', 1, 2, 2, 3),\n",
       " ('POS', 'POS', 'SHE', 'SHE', 1, 2, 2, 2),\n",
       " ('POS', 'POS', 'POS', 'SHE', 1, 2, 3, 2),\n",
       " ('POS', 'POS', 'SHE', 'SHE', 1, 2, 2, 3),\n",
       " ('POS', 'POS', 'POS', 'POS', 1, 2, 3, 3),\n",
       " ('POS', 'POS', 'POS', 'SHE', 1, 2, 3, 3),\n",
       " ('POS', 'POS', 'SHE', 'SHE', 1, 2, 3, 3),\n",
       " ('POS', 'SHE', 'POS', 'SHE', 1, 2, 1, 2),\n",
       " ('POS', 'SHE', 'POS', 'POS', 1, 2, 1, 3),\n",
       " ('POS', 'SHE', 'POS', 'SHE', 1, 2, 1, 3),\n",
       " ('POS', 'SHE', 'SHE', 'SHE', 1, 2, 1, 1),\n",
       " ('POS', 'SHE', 'POS', 'SHE', 1, 2, 2, 1),\n",
       " ('POS', 'SHE', 'SHE', 'SHE', 1, 2, 1, 2),\n",
       " ('POS', 'SHE', 'POS', 'SHE', 1, 2, 3, 1),\n",
       " ('POS', 'SHE', 'SHE', 'SHE', 1, 2, 1, 3),\n",
       " ('POS', 'SHE', 'POS', 'POS', 1, 2, 2, 2),\n",
       " ('POS', 'SHE', 'POS', 'SHE', 1, 2, 2, 2),\n",
       " ('POS', 'SHE', 'POS', 'POS', 1, 2, 2, 3),\n",
       " ('POS', 'SHE', 'POS', 'SHE', 1, 2, 2, 3),\n",
       " ('POS', 'SHE', 'SHE', 'SHE', 1, 2, 2, 2),\n",
       " ('POS', 'SHE', 'POS', 'SHE', 1, 2, 3, 2),\n",
       " ('POS', 'SHE', 'SHE', 'SHE', 1, 2, 2, 3),\n",
       " ('POS', 'SHE', 'POS', 'POS', 1, 2, 3, 3),\n",
       " ('POS', 'SHE', 'POS', 'SHE', 1, 2, 3, 3),\n",
       " ('POS', 'SHE', 'SHE', 'SHE', 1, 2, 3, 3),\n",
       " ('POS', 'POS', 'POS', 'POS', 1, 3, 1, 3),\n",
       " ('POS', 'POS', 'POS', 'SHE', 1, 3, 1, 3),\n",
       " ('POS', 'POS', 'SHE', 'SHE', 1, 3, 1, 1),\n",
       " ('POS', 'POS', 'POS', 'SHE', 1, 3, 2, 1),\n",
       " ('POS', 'POS', 'SHE', 'SHE', 1, 3, 1, 2),\n",
       " ('POS', 'POS', 'POS', 'SHE', 1, 3, 3, 1),\n",
       " ('POS', 'POS', 'SHE', 'SHE', 1, 3, 1, 3),\n",
       " ('POS', 'POS', 'POS', 'POS', 1, 3, 2, 2),\n",
       " ('POS', 'POS', 'POS', 'SHE', 1, 3, 2, 2),\n",
       " ('POS', 'POS', 'POS', 'POS', 1, 3, 2, 3),\n",
       " ('POS', 'POS', 'POS', 'SHE', 1, 3, 2, 3),\n",
       " ('POS', 'POS', 'SHE', 'SHE', 1, 3, 2, 2),\n",
       " ('POS', 'POS', 'POS', 'SHE', 1, 3, 3, 2),\n",
       " ('POS', 'POS', 'SHE', 'SHE', 1, 3, 2, 3),\n",
       " ('POS', 'POS', 'POS', 'POS', 1, 3, 3, 3),\n",
       " ('POS', 'POS', 'POS', 'SHE', 1, 3, 3, 3),\n",
       " ('POS', 'POS', 'SHE', 'SHE', 1, 3, 3, 3),\n",
       " ('POS', 'SHE', 'POS', 'SHE', 1, 3, 1, 3),\n",
       " ('POS', 'SHE', 'SHE', 'SHE', 1, 3, 1, 1),\n",
       " ('POS', 'SHE', 'POS', 'SHE', 1, 3, 2, 1),\n",
       " ('POS', 'SHE', 'SHE', 'SHE', 1, 3, 1, 2),\n",
       " ('POS', 'SHE', 'POS', 'SHE', 1, 3, 3, 1),\n",
       " ('POS', 'SHE', 'SHE', 'SHE', 1, 3, 1, 3),\n",
       " ('POS', 'SHE', 'POS', 'POS', 1, 3, 2, 2),\n",
       " ('POS', 'SHE', 'POS', 'SHE', 1, 3, 2, 2),\n",
       " ('POS', 'SHE', 'POS', 'POS', 1, 3, 2, 3),\n",
       " ('POS', 'SHE', 'POS', 'SHE', 1, 3, 2, 3),\n",
       " ('POS', 'SHE', 'SHE', 'SHE', 1, 3, 2, 2),\n",
       " ('POS', 'SHE', 'POS', 'SHE', 1, 3, 3, 2),\n",
       " ('POS', 'SHE', 'SHE', 'SHE', 1, 3, 2, 3),\n",
       " ('POS', 'SHE', 'POS', 'POS', 1, 3, 3, 3),\n",
       " ('POS', 'SHE', 'POS', 'SHE', 1, 3, 3, 3),\n",
       " ('POS', 'SHE', 'SHE', 'SHE', 1, 3, 3, 3),\n",
       " ('SHE', 'SHE', 'SHE', 'SHE', 1, 1, 1, 1),\n",
       " ('SHE', 'SHE', 'POS', 'SHE', 1, 1, 2, 1),\n",
       " ('SHE', 'SHE', 'SHE', 'SHE', 1, 1, 1, 2),\n",
       " ('SHE', 'SHE', 'POS', 'SHE', 1, 1, 3, 1),\n",
       " ('SHE', 'SHE', 'SHE', 'SHE', 1, 1, 1, 3),\n",
       " ('SHE', 'SHE', 'POS', 'POS', 1, 1, 2, 2),\n",
       " ('SHE', 'SHE', 'POS', 'SHE', 1, 1, 2, 2),\n",
       " ('SHE', 'SHE', 'POS', 'POS', 1, 1, 2, 3),\n",
       " ('SHE', 'SHE', 'POS', 'SHE', 1, 1, 2, 3),\n",
       " ('SHE', 'SHE', 'SHE', 'SHE', 1, 1, 2, 2),\n",
       " ('SHE', 'SHE', 'POS', 'SHE', 1, 1, 3, 2),\n",
       " ('SHE', 'SHE', 'SHE', 'SHE', 1, 1, 2, 3),\n",
       " ('SHE', 'SHE', 'POS', 'POS', 1, 1, 3, 3),\n",
       " ('SHE', 'SHE', 'POS', 'SHE', 1, 1, 3, 3),\n",
       " ('SHE', 'SHE', 'SHE', 'SHE', 1, 1, 3, 3),\n",
       " ('POS', 'SHE', 'POS', 'SHE', 2, 1, 2, 1),\n",
       " ('POS', 'SHE', 'SHE', 'SHE', 2, 1, 1, 2),\n",
       " ('POS', 'SHE', 'POS', 'SHE', 2, 1, 3, 1),\n",
       " ('POS', 'SHE', 'SHE', 'SHE', 2, 1, 1, 3),\n",
       " ('POS', 'SHE', 'POS', 'POS', 2, 1, 2, 2),\n",
       " ('POS', 'SHE', 'POS', 'SHE', 2, 1, 2, 2),\n",
       " ('POS', 'SHE', 'POS', 'POS', 2, 1, 2, 3),\n",
       " ('POS', 'SHE', 'POS', 'SHE', 2, 1, 2, 3),\n",
       " ('POS', 'SHE', 'SHE', 'SHE', 2, 1, 2, 2),\n",
       " ('POS', 'SHE', 'POS', 'SHE', 2, 1, 3, 2),\n",
       " ('POS', 'SHE', 'SHE', 'SHE', 2, 1, 2, 3),\n",
       " ('POS', 'SHE', 'POS', 'POS', 2, 1, 3, 3),\n",
       " ('POS', 'SHE', 'POS', 'SHE', 2, 1, 3, 3),\n",
       " ('POS', 'SHE', 'SHE', 'SHE', 2, 1, 3, 3),\n",
       " ('SHE', 'SHE', 'SHE', 'SHE', 1, 2, 1, 2),\n",
       " ('SHE', 'SHE', 'POS', 'SHE', 1, 2, 3, 1),\n",
       " ('SHE', 'SHE', 'SHE', 'SHE', 1, 2, 1, 3),\n",
       " ('SHE', 'SHE', 'POS', 'POS', 1, 2, 2, 2),\n",
       " ('SHE', 'SHE', 'POS', 'SHE', 1, 2, 2, 2),\n",
       " ('SHE', 'SHE', 'POS', 'POS', 1, 2, 2, 3),\n",
       " ('SHE', 'SHE', 'POS', 'SHE', 1, 2, 2, 3),\n",
       " ('SHE', 'SHE', 'SHE', 'SHE', 1, 2, 2, 2),\n",
       " ('SHE', 'SHE', 'POS', 'SHE', 1, 2, 3, 2),\n",
       " ('SHE', 'SHE', 'SHE', 'SHE', 1, 2, 2, 3),\n",
       " ('SHE', 'SHE', 'POS', 'POS', 1, 2, 3, 3),\n",
       " ('SHE', 'SHE', 'POS', 'SHE', 1, 2, 3, 3),\n",
       " ('SHE', 'SHE', 'SHE', 'SHE', 1, 2, 3, 3),\n",
       " ('POS', 'SHE', 'POS', 'SHE', 3, 1, 3, 1),\n",
       " ('POS', 'SHE', 'SHE', 'SHE', 3, 1, 1, 3),\n",
       " ('POS', 'SHE', 'POS', 'POS', 3, 1, 2, 2),\n",
       " ('POS', 'SHE', 'POS', 'SHE', 3, 1, 2, 2),\n",
       " ('POS', 'SHE', 'POS', 'POS', 3, 1, 2, 3),\n",
       " ('POS', 'SHE', 'POS', 'SHE', 3, 1, 2, 3),\n",
       " ('POS', 'SHE', 'SHE', 'SHE', 3, 1, 2, 2),\n",
       " ('POS', 'SHE', 'POS', 'SHE', 3, 1, 3, 2),\n",
       " ('POS', 'SHE', 'SHE', 'SHE', 3, 1, 2, 3),\n",
       " ('POS', 'SHE', 'POS', 'POS', 3, 1, 3, 3),\n",
       " ('POS', 'SHE', 'POS', 'SHE', 3, 1, 3, 3),\n",
       " ('POS', 'SHE', 'SHE', 'SHE', 3, 1, 3, 3),\n",
       " ('SHE', 'SHE', 'SHE', 'SHE', 1, 3, 1, 3),\n",
       " ('SHE', 'SHE', 'POS', 'POS', 1, 3, 2, 2),\n",
       " ('SHE', 'SHE', 'POS', 'SHE', 1, 3, 2, 2),\n",
       " ('SHE', 'SHE', 'POS', 'POS', 1, 3, 2, 3),\n",
       " ('SHE', 'SHE', 'POS', 'SHE', 1, 3, 2, 3),\n",
       " ('SHE', 'SHE', 'SHE', 'SHE', 1, 3, 2, 2),\n",
       " ('SHE', 'SHE', 'POS', 'SHE', 1, 3, 3, 2),\n",
       " ('SHE', 'SHE', 'SHE', 'SHE', 1, 3, 2, 3),\n",
       " ('SHE', 'SHE', 'POS', 'POS', 1, 3, 3, 3),\n",
       " ('SHE', 'SHE', 'POS', 'SHE', 1, 3, 3, 3),\n",
       " ('SHE', 'SHE', 'SHE', 'SHE', 1, 3, 3, 3),\n",
       " ('POS', 'POS', 'POS', 'POS', 2, 2, 2, 2),\n",
       " ('POS', 'POS', 'POS', 'SHE', 2, 2, 2, 2),\n",
       " ('POS', 'POS', 'POS', 'POS', 2, 2, 2, 3),\n",
       " ('POS', 'POS', 'POS', 'SHE', 2, 2, 2, 3),\n",
       " ('POS', 'POS', 'SHE', 'SHE', 2, 2, 2, 2),\n",
       " ('POS', 'POS', 'POS', 'SHE', 2, 2, 3, 2),\n",
       " ('POS', 'POS', 'SHE', 'SHE', 2, 2, 2, 3),\n",
       " ('POS', 'POS', 'POS', 'POS', 2, 2, 3, 3),\n",
       " ('POS', 'POS', 'POS', 'SHE', 2, 2, 3, 3),\n",
       " ('POS', 'POS', 'SHE', 'SHE', 2, 2, 3, 3),\n",
       " ('POS', 'SHE', 'POS', 'SHE', 2, 2, 2, 2),\n",
       " ('POS', 'SHE', 'POS', 'POS', 2, 2, 2, 3),\n",
       " ('POS', 'SHE', 'POS', 'SHE', 2, 2, 2, 3),\n",
       " ('POS', 'SHE', 'SHE', 'SHE', 2, 2, 2, 2),\n",
       " ('POS', 'SHE', 'POS', 'SHE', 2, 2, 3, 2),\n",
       " ('POS', 'SHE', 'SHE', 'SHE', 2, 2, 2, 3),\n",
       " ('POS', 'SHE', 'POS', 'POS', 2, 2, 3, 3),\n",
       " ('POS', 'SHE', 'POS', 'SHE', 2, 2, 3, 3),\n",
       " ('POS', 'SHE', 'SHE', 'SHE', 2, 2, 3, 3),\n",
       " ('POS', 'POS', 'POS', 'POS', 2, 3, 2, 3),\n",
       " ('POS', 'POS', 'POS', 'SHE', 2, 3, 2, 3),\n",
       " ('POS', 'POS', 'SHE', 'SHE', 2, 3, 2, 2),\n",
       " ('POS', 'POS', 'POS', 'SHE', 2, 3, 3, 2),\n",
       " ('POS', 'POS', 'SHE', 'SHE', 2, 3, 2, 3),\n",
       " ('POS', 'POS', 'POS', 'POS', 2, 3, 3, 3),\n",
       " ('POS', 'POS', 'POS', 'SHE', 2, 3, 3, 3),\n",
       " ('POS', 'POS', 'SHE', 'SHE', 2, 3, 3, 3),\n",
       " ('POS', 'SHE', 'POS', 'SHE', 2, 3, 2, 3),\n",
       " ('POS', 'SHE', 'SHE', 'SHE', 2, 3, 2, 2),\n",
       " ('POS', 'SHE', 'POS', 'SHE', 2, 3, 3, 2),\n",
       " ('POS', 'SHE', 'SHE', 'SHE', 2, 3, 2, 3),\n",
       " ('POS', 'SHE', 'POS', 'POS', 2, 3, 3, 3),\n",
       " ('POS', 'SHE', 'POS', 'SHE', 2, 3, 3, 3),\n",
       " ('POS', 'SHE', 'SHE', 'SHE', 2, 3, 3, 3),\n",
       " ('SHE', 'SHE', 'SHE', 'SHE', 2, 2, 2, 2),\n",
       " ('SHE', 'SHE', 'POS', 'SHE', 2, 2, 3, 2),\n",
       " ('SHE', 'SHE', 'SHE', 'SHE', 2, 2, 2, 3),\n",
       " ('SHE', 'SHE', 'POS', 'POS', 2, 2, 3, 3),\n",
       " ('SHE', 'SHE', 'POS', 'SHE', 2, 2, 3, 3),\n",
       " ('SHE', 'SHE', 'SHE', 'SHE', 2, 2, 3, 3),\n",
       " ('POS', 'SHE', 'POS', 'SHE', 3, 2, 3, 2),\n",
       " ('POS', 'SHE', 'SHE', 'SHE', 3, 2, 2, 3),\n",
       " ('POS', 'SHE', 'POS', 'POS', 3, 2, 3, 3),\n",
       " ('POS', 'SHE', 'POS', 'SHE', 3, 2, 3, 3),\n",
       " ('POS', 'SHE', 'SHE', 'SHE', 3, 2, 3, 3),\n",
       " ('SHE', 'SHE', 'SHE', 'SHE', 2, 3, 2, 3),\n",
       " ('SHE', 'SHE', 'POS', 'POS', 2, 3, 3, 3),\n",
       " ('SHE', 'SHE', 'POS', 'SHE', 2, 3, 3, 3),\n",
       " ('SHE', 'SHE', 'SHE', 'SHE', 2, 3, 3, 3),\n",
       " ('POS', 'POS', 'POS', 'POS', 3, 3, 3, 3),\n",
       " ('POS', 'POS', 'POS', 'SHE', 3, 3, 3, 3),\n",
       " ('POS', 'POS', 'SHE', 'SHE', 3, 3, 3, 3),\n",
       " ('POS', 'SHE', 'POS', 'SHE', 3, 3, 3, 3),\n",
       " ('POS', 'SHE', 'SHE', 'SHE', 3, 3, 3, 3),\n",
       " ('SHE', 'SHE', 'SHE', 'SHE', 3, 3, 3, 3)]"
      ]
     },
     "execution_count": 31,
     "metadata": {},
     "output_type": "execute_result"
    }
   ],
   "source": [
    "list(cov_jk.keys())"
   ]
  },
  {
   "cell_type": "code",
   "execution_count": 24,
   "metadata": {},
   "outputs": [
    {
     "ename": "KeyError",
     "evalue": "('POS', 'POS', 'POS', 'SHE', 2, 1, 1, 2)",
     "output_type": "error",
     "traceback": [
      "\u001b[0;31m---------------------------------------------------------------------------\u001b[0m",
      "\u001b[0;31mKeyError\u001b[0m                                  Traceback (most recent call last)",
      "Cell \u001b[0;32mIn[24], line 1\u001b[0m\n\u001b[0;32m----> 1\u001b[0m \u001b[43m_theory_cov\u001b[49m\u001b[43m[\u001b[49m\u001b[43m(\u001b[49m\u001b[38;5;124;43m'\u001b[39;49m\u001b[38;5;124;43mPOS\u001b[39;49m\u001b[38;5;124;43m'\u001b[39;49m\u001b[43m,\u001b[49m\u001b[43m \u001b[49m\u001b[38;5;124;43m'\u001b[39;49m\u001b[38;5;124;43mPOS\u001b[39;49m\u001b[38;5;124;43m'\u001b[39;49m\u001b[43m,\u001b[49m\u001b[43m \u001b[49m\u001b[38;5;124;43m'\u001b[39;49m\u001b[38;5;124;43mPOS\u001b[39;49m\u001b[38;5;124;43m'\u001b[39;49m\u001b[43m,\u001b[49m\u001b[43m \u001b[49m\u001b[38;5;124;43m'\u001b[39;49m\u001b[38;5;124;43mSHE\u001b[39;49m\u001b[38;5;124;43m'\u001b[39;49m\u001b[43m,\u001b[49m\u001b[43m \u001b[49m\u001b[38;5;241;43m2\u001b[39;49m\u001b[43m,\u001b[49m\u001b[43m \u001b[49m\u001b[38;5;241;43m1\u001b[39;49m\u001b[43m,\u001b[49m\u001b[43m \u001b[49m\u001b[38;5;241;43m1\u001b[39;49m\u001b[43m,\u001b[49m\u001b[43m \u001b[49m\u001b[38;5;241;43m2\u001b[39;49m\u001b[43m)\u001b[49m\u001b[43m]\u001b[49m\n",
      "\u001b[0;31mKeyError\u001b[0m: ('POS', 'POS', 'POS', 'SHE', 2, 1, 1, 2)"
     ]
    }
   ],
   "source": [
    "_theory_cov[('POS', 'POS', 'POS', 'SHE', 2, 1, 1, 2)]"
   ]
  },
  {
   "cell_type": "code",
   "execution_count": 22,
   "metadata": {},
   "outputs": [
    {
     "ename": "KeyError",
     "evalue": "('POS', 'POS', 'POS', 'SHE', 1, 2, 1, 2)",
     "output_type": "error",
     "traceback": [
      "\u001b[0;31m---------------------------------------------------------------------------\u001b[0m",
      "\u001b[0;31mKeyError\u001b[0m                                  Traceback (most recent call last)",
      "Cell \u001b[0;32mIn[22], line 3\u001b[0m\n\u001b[1;32m      1\u001b[0m sc \u001b[38;5;241m=\u001b[39m {}\n\u001b[1;32m      2\u001b[0m \u001b[38;5;28;01mfor\u001b[39;00m key \u001b[38;5;129;01min\u001b[39;00m cov_jk\u001b[38;5;241m.\u001b[39mkeys():\n\u001b[0;32m----> 3\u001b[0m     sc[key] \u001b[38;5;241m=\u001b[39m shrinkage \u001b[38;5;241m*\u001b[39m \u001b[43m_theory_cov\u001b[49m\u001b[43m[\u001b[49m\u001b[43mkey\u001b[49m\u001b[43m]\u001b[49m\u001b[38;5;241m.\u001b[39marray \u001b[38;5;241m+\u001b[39m (\u001b[38;5;241m1\u001b[39m \u001b[38;5;241m-\u001b[39m shrinkage) \u001b[38;5;241m*\u001b[39m cov_jk[key]\u001b[38;5;241m.\u001b[39marray\n",
      "\u001b[0;31mKeyError\u001b[0m: ('POS', 'POS', 'POS', 'SHE', 1, 2, 1, 2)"
     ]
    }
   ],
   "source": [
    "sc = {}\n",
    "for key in cov_jk.keys():\n",
    "    sc[key] = shrinkage * _theory_cov[key].array + (1 - shrinkage) * cov_jk[key].array"
   ]
  },
  {
   "cell_type": "code",
   "execution_count": 17,
   "metadata": {},
   "outputs": [
    {
     "ename": "KeyError",
     "evalue": "('POS', 'POS', 'POS', 'G_E', 1, 1, 1, 1)",
     "output_type": "error",
     "traceback": [
      "\u001b[0;31m---------------------------------------------------------------------------\u001b[0m",
      "\u001b[0;31mKeyError\u001b[0m                                  Traceback (most recent call last)",
      "Cell \u001b[0;32mIn[17], line 1\u001b[0m\n\u001b[0;32m----> 1\u001b[0m shrunk_cov_jk \u001b[38;5;241m=\u001b[39m \u001b[43mdices\u001b[49m\u001b[38;5;241;43m.\u001b[39;49m\u001b[43mshrink_covariance\u001b[49m\u001b[43m(\u001b[49m\n\u001b[1;32m      2\u001b[0m \u001b[43m    \u001b[49m\u001b[43mcqs0\u001b[49m\u001b[43m,\u001b[49m\n\u001b[1;32m      3\u001b[0m \u001b[43m    \u001b[49m\u001b[43mcov_jk\u001b[49m\u001b[43m,\u001b[49m\u001b[43m \u001b[49m\n\u001b[1;32m      4\u001b[0m \u001b[43m    \u001b[49m\u001b[43mtarget_cov\u001b[49m\u001b[43m,\u001b[49m\n\u001b[1;32m      5\u001b[0m \u001b[43m    \u001b[49m\u001b[43mshrinkage\u001b[49m\u001b[43m)\u001b[49m\n",
      "File \u001b[0;32m~/anaconda3/envs/gitd/lib/python3.13/site-packages/heracles/dices/delete1.py:107\u001b[0m, in \u001b[0;36mshrink_covariance\u001b[0;34m(Cls0, cov, target, shrinkage_factor)\u001b[0m\n\u001b[1;32m    104\u001b[0m Cqs0 \u001b[38;5;241m=\u001b[39m Fields2Components(Cls0)\n\u001b[1;32m    106\u001b[0m \u001b[38;5;66;03m# to matrices\u001b[39;00m\n\u001b[0;32m--> 107\u001b[0m cov \u001b[38;5;241m=\u001b[39m \u001b[43mComponents2Data\u001b[49m\u001b[43m(\u001b[49m\u001b[43mCqs0\u001b[49m\u001b[43m,\u001b[49m\u001b[43m \u001b[49m\u001b[43mcov\u001b[49m\u001b[43m)\u001b[49m\n\u001b[1;32m    108\u001b[0m target \u001b[38;5;241m=\u001b[39m Components2Data(Cqs0, target)\n\u001b[1;32m    110\u001b[0m \u001b[38;5;66;03m# Compute scalar shrinkage intensity\u001b[39;00m\n",
      "File \u001b[0;32m~/anaconda3/envs/gitd/lib/python3.13/site-packages/heracles/dices/io.py:71\u001b[0m, in \u001b[0;36mComponents2Data\u001b[0;34m(cls, cov)\u001b[0m\n\u001b[1;32m     67\u001b[0m size_i \u001b[38;5;241m=\u001b[39m nells[i]\n\u001b[1;32m     68\u001b[0m size_j \u001b[38;5;241m=\u001b[39m nells[j]\n\u001b[1;32m     69\u001b[0m full_cov[\n\u001b[1;32m     70\u001b[0m     i \u001b[38;5;241m*\u001b[39m size_i : (i \u001b[38;5;241m+\u001b[39m \u001b[38;5;241m1\u001b[39m) \u001b[38;5;241m*\u001b[39m size_i, j \u001b[38;5;241m*\u001b[39m size_j : (j \u001b[38;5;241m+\u001b[39m \u001b[38;5;241m1\u001b[39m) \u001b[38;5;241m*\u001b[39m size_j\n\u001b[0;32m---> 71\u001b[0m ] \u001b[38;5;241m=\u001b[39m \u001b[43mcov\u001b[49m\u001b[43m[\u001b[49m\u001b[43mcovkey\u001b[49m\u001b[43m]\u001b[49m\n\u001b[1;32m     72\u001b[0m \u001b[38;5;28;01mif\u001b[39;00m i \u001b[38;5;241m!=\u001b[39m j:\n\u001b[1;32m     73\u001b[0m     full_cov[\n\u001b[1;32m     74\u001b[0m         j \u001b[38;5;241m*\u001b[39m size_j : (j \u001b[38;5;241m+\u001b[39m \u001b[38;5;241m1\u001b[39m) \u001b[38;5;241m*\u001b[39m size_j, i \u001b[38;5;241m*\u001b[39m size_i : (i \u001b[38;5;241m+\u001b[39m \u001b[38;5;241m1\u001b[39m) \u001b[38;5;241m*\u001b[39m size_i\n\u001b[1;32m     75\u001b[0m     ] \u001b[38;5;241m=\u001b[39m cov[covkey]\u001b[38;5;241m.\u001b[39mT\n",
      "\u001b[0;31mKeyError\u001b[0m: ('POS', 'POS', 'POS', 'G_E', 1, 1, 1, 1)"
     ]
    }
   ],
   "source": [
    "shrunk_cov_jk = dices.shrink_covariance(\n",
    "    cqs0,\n",
    "    cov_jk, \n",
    "    target_cov,\n",
    "    shrinkage)"
   ]
  },
  {
   "cell_type": "code",
   "execution_count": null,
   "metadata": {},
   "outputs": [
    {
     "ename": "NameError",
     "evalue": "name 'shrunk_cov_jk' is not defined",
     "output_type": "error",
     "traceback": [
      "\u001b[0;31m---------------------------------------------------------------------------\u001b[0m",
      "\u001b[0;31mNameError\u001b[0m                                 Traceback (most recent call last)",
      "Cell \u001b[0;32mIn[17], line 1\u001b[0m\n\u001b[0;32m----> 1\u001b[0m plt\u001b[38;5;241m.\u001b[39mimshow(\u001b[43mshrunk_cov_jk\u001b[49m[(\u001b[38;5;124m\"\u001b[39m\u001b[38;5;124mPOS\u001b[39m\u001b[38;5;124m\"\u001b[39m, \u001b[38;5;124m\"\u001b[39m\u001b[38;5;124mPOS\u001b[39m\u001b[38;5;124m\"\u001b[39m, \u001b[38;5;124m\"\u001b[39m\u001b[38;5;124mPOS\u001b[39m\u001b[38;5;124m\"\u001b[39m, \u001b[38;5;124m\"\u001b[39m\u001b[38;5;124mPOS\u001b[39m\u001b[38;5;124m\"\u001b[39m, \u001b[38;5;241m1\u001b[39m, \u001b[38;5;241m1\u001b[39m, \u001b[38;5;241m1\u001b[39m, \u001b[38;5;241m1\u001b[39m)],\n\u001b[1;32m      2\u001b[0m            vmin\u001b[38;5;241m=\u001b[39m\u001b[38;5;241m-\u001b[39m\u001b[38;5;241m2.5\u001b[39m\u001b[38;5;241m*\u001b[39m\u001b[38;5;241m10\u001b[39m\u001b[38;5;241m*\u001b[39m\u001b[38;5;241m*\u001b[39m\u001b[38;5;241m-\u001b[39m\u001b[38;5;241m14\u001b[39m, vmax\u001b[38;5;241m=\u001b[39m\u001b[38;5;241m2.5\u001b[39m\u001b[38;5;241m*\u001b[39m\u001b[38;5;241m10\u001b[39m\u001b[38;5;241m*\u001b[39m\u001b[38;5;241m*\u001b[39m\u001b[38;5;241m-\u001b[39m\u001b[38;5;241m14\u001b[39m, cmap\u001b[38;5;241m=\u001b[39m\u001b[38;5;124m\"\u001b[39m\u001b[38;5;124mseismic\u001b[39m\u001b[38;5;124m\"\u001b[39m)\n\u001b[1;32m      3\u001b[0m plt\u001b[38;5;241m.\u001b[39mcolorbar()\n\u001b[1;32m      4\u001b[0m plt\u001b[38;5;241m.\u001b[39mtitle(\u001b[38;5;124m\"\u001b[39m\u001b[38;5;124mShrunk Delete-1 covariance\u001b[39m\u001b[38;5;124m\"\u001b[39m)\n",
      "\u001b[0;31mNameError\u001b[0m: name 'shrunk_cov_jk' is not defined"
     ]
    }
   ],
   "source": [
    "plt.imshow(shrunk_cov_jk[(\"POS\", \"POS\", \"POS\", \"POS\", 1, 1, 1, 1)],\n",
    "           vmin=-2.5*10**-14, vmax=2.5*10**-14, cmap=\"seismic\")\n",
    "plt.colorbar()\n",
    "plt.title(\"Shrunk Delete-1 covariance\")\n",
    "plt.ylabel(r\"$\\ell$\")\n",
    "plt.xlabel(r\"$\\ell$\")\n",
    "plt.show()"
   ]
  },
  {
   "cell_type": "markdown",
   "metadata": {},
   "source": [
    "## Debiasing\n",
    "\n",
    "It can be shown that the Jackknife covariance errors (i.e. its diagonal entries) tend to be biased high. In other words, the Jackknife covariance matrix overestimates the variances of the angular power spectra. In order to address this, the DICES covariances introduces a second ensemble of angular power spectra, the delete-two ensemble. The delete-two ensemble is computed by removing two jackknife regions at a time"
   ]
  },
  {
   "cell_type": "code",
   "execution_count": 18,
   "metadata": {},
   "outputs": [
    {
     "name": "stdout",
     "output_type": "stream",
     "text": [
      " - Computing Cls for regions (9,10)\r"
     ]
    }
   ],
   "source": [
    "cls2 = dices.jackknife_cls(data_maps, vis_maps, jk_maps, fields, nd=2)\n",
    "cqs2 = heracles.binned(cls2, ledges)"
   ]
  },
  {
   "cell_type": "markdown",
   "metadata": {},
   "source": [
    "Once, the delete-two ensemble is computed, the correction can be obtained by computing the expressions:\n",
    "$$\n",
    "q_{p} = K d^0 - (K-1) (d_k^1 + d_{k'}^1) + (K-2) d^2_{p} \\, ,\n",
    "$$\n",
    "where $d^0$ denotes the concatenated angular power spectra of the full survey, $d^1_k$ and $d^1_{k'}$ denote the concatenated angular power spectra of the survey with the $k$-th and $k'$-th jackknife regions removed respectively, and $d^2_{p}$ denotes the concatenated angular power spectra of the survey with both the $k$-th and $k'$-th jackknife regions removed. Note that $p$ is an iterator that runs from 1 to $K(K-1)/2$ related to the combinations of $k$ and $k'$. \n",
    "\n",
    "Now we need to compute the variance of the q-ensemble. In order to do so, we can use the same framework as for the delete-one matrices substituting $q$ for $x$ in the expression for $W$. The correction is then given by:\n",
    "$$\n",
    "Q_{ij} = \\frac{K(K-1)-2}{2K(K+1)} \\mathbb{E} [W(q)_{ijp}]_{p} \\, .\n",
    "$$\n",
    "\n",
    "Finally the debiased covariance matrix is given by:\n",
    "$$\n",
    "\\mathbb{C}^{\\rm debiased} = \\mathbb{C}^{\\rm JK} - Q \\, .\n",
    "$$"
   ]
  },
  {
   "cell_type": "code",
   "execution_count": 19,
   "metadata": {},
   "outputs": [],
   "source": [
    "debiased_cov_jk = dices.debias_covariance(\n",
    "    cov_jk,\n",
    "    cqs0,\n",
    "    cqs1,\n",
    "    cqs2,\n",
    ")"
   ]
  },
  {
   "cell_type": "code",
   "execution_count": 20,
   "metadata": {},
   "outputs": [
    {
     "data": {
      "image/png": "[encoded data removed]",
      "text/plain": [
       "<Figure size 640x480 with 2 Axes>"
      ]
     },
     "metadata": {},
     "output_type": "display_data"
    }
   ],
   "source": [
    "plt.imshow(debiased_cov_jk[(\"POS\", \"POS\", \"POS\", \"POS\", 1, 1, 1, 1)],\n",
    "           vmin=-2.5*10**-14, vmax=2.5*10**-14, cmap=\"seismic\")\n",
    "plt.colorbar()\n",
    "plt.title(\"Delete-2 covariance\")\n",
    "plt.ylabel(r\"$\\ell$\")\n",
    "plt.xlabel(r\"$\\ell$\")\n",
    "plt.show()"
   ]
  },
  {
   "cell_type": "markdown",
   "metadata": {},
   "source": [
    "## DICES Covariance"
   ]
  },
  {
   "cell_type": "markdown",
   "metadata": {},
   "source": [
    "Finally the DICES covariance is computed as by multiplying the correlation matricies of $\\mathbb{C}^{\\rm shrunk \\, 1}$ and $\\mathbb{C}^{\\rm debiased}$:\n",
    "$$\n",
    "\\mathbb{D}_{ij} = \\left(\\frac{\\mathbb{C}^{\\rm shrunk \\, 1}_{ij}}{\\sqrt{\\mathbb{C}^{\\rm shrunk \\, 1}_{ii} \\mathbb{C}^{\\rm shrunk\\, 1}_{jj} }}\\right){\\sqrt{\\mathbb{C}^{\\rm debiased}_{ii} \\mathbb{C}^{\\rm debiased}_{jj}}}\\, .\n",
    "$$"
   ]
  },
  {
   "cell_type": "markdown",
   "metadata": {},
   "source": []
  },
  {
   "cell_type": "markdown",
   "metadata": {},
   "source": []
  },
  {
   "cell_type": "markdown",
   "metadata": {},
   "source": []
  },
  {
   "cell_type": "markdown",
   "metadata": {},
   "source": []
  },
  {
   "cell_type": "code",
   "execution_count": null,
   "metadata": {},
   "outputs": [],
   "source": [
    "dices_cov = dices.dices_covariance(cqs0, shrunk_cov_jk, debiased_cov_jk)"
   ]
  },
  {
   "cell_type": "code",
   "execution_count": null,
   "metadata": {},
   "outputs": [],
   "source": [
    "_delete1_cov = dices.Components2Fields(cqs0, cov_jk)\n",
    "_dices_cov = dices.Components2Fields(cqs0, dices_cov)"
   ]
  },
  {
   "cell_type": "code",
   "execution_count": null,
   "metadata": {},
   "outputs": [],
   "source": [
    "plt.imshow(dices_cov[(\"POS\", \"POS\", \"POS\", \"POS\", 1, 1, 1, 1)],\n",
    "           vmin=-2.5*10**-14, vmax=2.5*10**-14, cmap=\"seismic\")\n",
    "plt.colorbar()\n",
    "plt.title(\"DICES covariance\")\n",
    "plt.ylabel(r\"$\\ell$\")\n",
    "plt.xlabel(r\"$\\ell$\")\n",
    "plt.show()"
   ]
  },
  {
   "cell_type": "markdown",
   "metadata": {},
   "source": [
    "## Results"
   ]
  },
  {
   "cell_type": "code",
   "execution_count": null,
   "metadata": {},
   "outputs": [],
   "source": [
    "fig, ax = plt.subplots(\n",
    "    2 * (nbins - 1),\n",
    "    nbins - 1,\n",
    "    figsize=(6, 6),\n",
    "    gridspec_kw={\"height_ratios\": [3, 1, 3, 1]},\n",
    ")\n",
    "\n",
    "\n",
    "for i in range(1, nbins):\n",
    "    for j in range(1, i):\n",
    "        ax[j - 1, i - 1].axis(\"off\")\n",
    "        ax[j, i - 1].axis(\"off\")\n",
    "    for j in range(i, nbins):\n",
    "        key = (\"POS\", \"POS\", i, j)\n",
    "        cov_key = (\"POS\", \"POS\", \"POS\", \"POS\", i, j, i, j)\n",
    "        c = _dices_cov[cov_key][0, 0, :, :]\n",
    "        err = np.sqrt(np.diag(c))\n",
    "        ax[2 * (j - 1), i - 1].errorbar(\n",
    "            lgrid, cqs0[key], yerr=err, c=\"C0\", lw=1.5, zorder=3.0, alpha=0.5\n",
    "        )\n",
    "        ax[2 * (j - 1), i - 1].plot(\n",
    "            ell[10:], theory_cls[key][10:], c=\"C0\", lw=1.0, zorder=4.0\n",
    "        )\n",
    "        ax[2 * (j - 1), i - 1].axhline(0.0, c=\"k\", lw=0.8, zorder=-1)\n",
    "        ax[2 * (j - 1) + 1, i - 1].errorbar(\n",
    "            lgrid,\n",
    "            (cqs0[key][:] - heracles.binned(theory_cls[key][1:], ledges))\n",
    "            / heracles.binned(theory_cls[key][1:], ledges),\n",
    "            yerr=np.abs(err / cqs0[key][:]),\n",
    "            fmt=\".\",\n",
    "            c=\"C0\",\n",
    "            lw=1.5,\n",
    "            zorder=1.0,\n",
    "            alpha=0.5,\n",
    "        )\n",
    "        ax[2 * (j - 1) + 1, i - 1].axhline(0.0, c=\"k\", lw=0.8, zorder=-1)\n",
    "\n",
    "        ax[2 * (j - 1), i - 1].tick_params(axis=\"both\", which=\"both\", direction=\"in\")\n",
    "        ax[2 * (j - 1), i - 1].set_yscale(\n",
    "            \"symlog\", linthresh=1e-7, linscale=0.45, subs=np.arange(0.1, 1.0, 0.1)\n",
    "        )\n",
    "        ax[2 * (j - 1), i - 1].set_ylim(-3e-7, 5e-6)\n",
    "        ax[2 * (j - 1) + 1, i - 1].set_yscale(\n",
    "            \"symlog\", linthresh=0.1, linscale=0.45, subs=np.arange(0.1, 1.0, 0.1)\n",
    "        )\n",
    "        ax[2 * (j - 1) + 1, i - 1].set_ylim(-10, 10)\n",
    "\n",
    "        ax[2 * (j - 1), i - 1].set_xscale(\"log\")\n",
    "        ax[2 * (j - 1), i - 1].set_xlim(5, lmax * 2)\n",
    "        ax[2 * (j - 1) + 1, i - 1].set_xscale(\"log\")\n",
    "        ax[2 * (j - 1) + 1, i - 1].set_xlim(5, lmax * 2)\n",
    "        if i > 1:\n",
    "            ax[2 * (j - 1), i - 1].set_yticklabels([])\n",
    "            ax[2 * (j - 1) + 1, i - 1].set_yticklabels([])\n",
    "\n",
    "\n",
    "fig.subplots_adjust(left=0.0, bottom=0.0, right=1.0, top=1.0, wspace=0.0, hspace=0.0)\n",
    "\n",
    "fig.supxlabel(\"angular mode $\\\\ell$\", y=-0.05, va=\"top\")\n",
    "fig.supylabel(\"galaxy clustering $C_\\\\ell$\", x=-0.1, ha=\"right\")\n",
    "\n",
    "plt.show()"
   ]
  },
  {
   "cell_type": "code",
   "execution_count": null,
   "metadata": {},
   "outputs": [],
   "source": [
    "fig, ax = plt.subplots(\n",
    "    2 * (nbins - 1),\n",
    "    nbins - 1,\n",
    "    figsize=(6, 6),\n",
    "    gridspec_kw={\"height_ratios\": [3, 1, 3, 1]},\n",
    ")\n",
    "\n",
    "for i in range(1, nbins):\n",
    "    for j in range(1, i):\n",
    "        ax[j - 1, i - 1].axis(\"off\")\n",
    "        ax[j, i - 1].axis(\"off\")\n",
    "    for j in range(i, nbins):\n",
    "        key = (\"SHE\", \"SHE\", i, j)\n",
    "        cov_key = (\"SHE\", \"SHE\", \"SHE\", \"SHE\", i, j, i, j)\n",
    "        e_c = _delete1_cov[cov_key][0, 0]\n",
    "        e_err = np.sqrt(np.diag(e_c))\n",
    "        b_c = _delete1_cov[cov_key][1, 1]\n",
    "        b_err = np.sqrt(np.diag(b_c))\n",
    "        ax[2 * (j - 1), i - 1].errorbar(\n",
    "            lgrid,\n",
    "            cqs0[key][0, :],\n",
    "            yerr=e_err,\n",
    "            c=\"C0\",\n",
    "            lw=1.5,\n",
    "            zorder=3.0,\n",
    "            alpha=0.5,\n",
    "        )\n",
    "        ax[2 * (j - 1), i - 1].plot(\n",
    "            ell[10:], theory_cls[key][0, 10:], c=\"C0\", lw=1.0, zorder=4.0\n",
    "        )\n",
    "        ax[2 * (j - 1) + 1, i - 1].errorbar(\n",
    "            lgrid,\n",
    "            (cqs0[key][0, :] - heracles.binned(theory_cls[key][0, 2:], ledges))\n",
    "            / heracles.binned(theory_cls[key][0, 2:], ledges),\n",
    "            yerr=np.abs(e_err / cqs0[key][0, :]),\n",
    "            fmt=\".\",\n",
    "            c=\"C0\",\n",
    "            lw=1.5,\n",
    "            zorder=1.0,\n",
    "            alpha=0.5,\n",
    "        )\n",
    "        ax[2 * (j - 1), i - 1].errorbar(\n",
    "            lgrid,\n",
    "            cqs0[key][1, :],\n",
    "            yerr=b_err,\n",
    "            c=\"C1\",\n",
    "            lw=1.5,\n",
    "            zorder=1.0,\n",
    "            alpha=0.5,\n",
    "        )\n",
    "        ax[2 * (j - 1), i - 1].plot(\n",
    "            ell[10:],\n",
    "            theory_cls[key][1, 10:],\n",
    "            c=\"C1\",\n",
    "            lw=1.0,\n",
    "            zorder=2.0,\n",
    "        )\n",
    "        ax[2 * (j - 1), i - 1].axhline(0.0, c=\"k\", lw=0.8, zorder=-1)\n",
    "        ax[2 * (j - 1) + 1, i - 1].axhline(0.0, c=\"k\", lw=0.8, zorder=-1)\n",
    "        ax[2 * (j - 1), i - 1].tick_params(axis=\"both\", which=\"both\", direction=\"in\")\n",
    "        ax[2 * (j - 1), i - 1].set_yscale(\n",
    "            \"symlog\", linthresh=1e-10, linscale=0.45, subs=np.arange(0.1, 1.0, 0.1)\n",
    "        )\n",
    "        ax[2 * (j - 1), i - 1].set_ylim(-3e-9, 5e-9)\n",
    "        ax[2 * (j - 1) + 1, i - 1].set_yscale(\n",
    "            \"symlog\", linthresh=0.1, linscale=0.45, subs=np.arange(0.1, 1.0, 0.1)\n",
    "        )\n",
    "        ax[2 * (j - 1) + 1, i - 1].set_ylim(-2.5, 2.5)\n",
    "\n",
    "        ax[2 * (j - 1), i - 1].set_xscale(\"log\")\n",
    "        ax[2 * (j - 1), i - 1].set_xlim(5, lmax * 2)\n",
    "        ax[2 * (j - 1) + 1, i - 1].set_xscale(\"log\")\n",
    "        ax[2 * (j - 1) + 1, i - 1].set_xlim(5, lmax * 2)\n",
    "        if i > 1:\n",
    "            ax[2 * (j - 1), i - 1].set_yticklabels([])\n",
    "            ax[2 * (j - 1) + 1, i - 1].set_yticklabels([])\n",
    "ax[0, 0].xaxis.get_major_locator().set_params(numticks=99)\n",
    "ax[0, 0].xaxis.get_minor_locator().set_params(\n",
    "    numticks=99, subs=np.arange(0.1, 1.0, 0.1)\n",
    ")\n",
    "# ax[0, 0].set_yscale(\n",
    "#    \"symlog\", linthresh=1e-10, linscale=0.45, subs=np.arange(0.1, 1.0, 0.1)\n",
    "# )\n",
    "# ax[0, 0].set_ylim(-3e-7, 5e-7)\n",
    "\n",
    "fig.subplots_adjust(left=0.0, bottom=0.0, right=1.0, top=1.0, wspace=0.0, hspace=0.0)\n",
    "\n",
    "fig.supxlabel(\"angular mode $\\\\ell$\", y=-0.05, va=\"top\")\n",
    "fig.supylabel(\"cosmic shear $C_\\\\ell$\", x=-0.1, ha=\"right\")\n",
    "\n",
    "plt.show()"
   ]
  },
  {
   "cell_type": "code",
   "execution_count": null,
   "metadata": {},
   "outputs": [],
   "source": [
    "fig, ax = plt.subplots(\n",
    "    2 * (nbins - 1),\n",
    "    (nbins - 1),\n",
    "    figsize=(6, 6),\n",
    "    gridspec_kw={\"height_ratios\": [3, 1, 3, 1]},\n",
    ")\n",
    "\n",
    "for i in range(1, nbins):\n",
    "    for j in range(1, nbins):\n",
    "        key = (\"POS\", \"SHE\", i, j)\n",
    "        cov_key = (\"POS\", \"SHE\", \"POS\", \"SHE\", i, j, i, j)\n",
    "        e_c = _dices_cov[cov_key][0, 0]\n",
    "        e_err = np.sqrt(np.diag(e_c))\n",
    "        b_c = _dices_cov[cov_key][0, 1]\n",
    "        b_err = np.sqrt(np.diag(b_c))\n",
    "        ax[2 * (j - 1), i - 1].errorbar(\n",
    "            lgrid,\n",
    "            cqs0[key][0, :],\n",
    "            yerr=e_err,\n",
    "            c=\"C0\",\n",
    "            lw=1.5,\n",
    "            zorder=3.0,\n",
    "            alpha=0.5,\n",
    "        )\n",
    "        ax[2 * (j - 1), i - 1].plot(\n",
    "            ell[10:], theory_cls[key][0, 10:], c=\"C0\", lw=1.0, zorder=4.0\n",
    "        )\n",
    "        ax[2 * (j - 1) + 1, i - 1].errorbar(\n",
    "            lgrid,\n",
    "            (cqs0[key][0, :] - heracles.binned(theory_cls[key][0, 2:], ledges))\n",
    "            / heracles.binned(theory_cls[key][0, 2:], ledges),\n",
    "            yerr=np.abs(e_err / cqs0[key][0, :]),\n",
    "            fmt=\".\",\n",
    "            c=\"C0\",\n",
    "            lw=1.5,\n",
    "            zorder=1.0,\n",
    "            alpha=0.5,\n",
    "        )\n",
    "        ax[2 * (j - 1), i - 1].errorbar(\n",
    "            lgrid,\n",
    "            cqs0[key][1, :],\n",
    "            yerr=b_err,\n",
    "            c=\"C1\",\n",
    "            lw=1.5,\n",
    "            zorder=1.0,\n",
    "            alpha=0.5,\n",
    "        )\n",
    "        ax[2 * (j - 1), i - 1].plot(\n",
    "            ell[10:], theory_cls[key][1, 10:], c=\"C1\", lw=1.0, zorder=2.0\n",
    "        )\n",
    "        ax[2 * (j - 1), i - 1].axhline(0.0, c=\"k\", lw=0.8, zorder=-1)\n",
    "        ax[2 * (j - 1) + 1, i - 1].axhline(0.0, c=\"k\", lw=0.8, zorder=-1)\n",
    "        ax[2 * (j - 1), i - 1].tick_params(axis=\"both\", which=\"both\", direction=\"in\")\n",
    "\n",
    "        ax[2 * (j - 1), i - 1].set_yscale(\n",
    "            \"symlog\", linthresh=1e-9, linscale=0.45, subs=np.arange(0.1, 1.0, 0.1)\n",
    "        )\n",
    "        ax[2 * (j - 1), i - 1].set_ylim(-8e-7, 8e-7)\n",
    "        ax[2 * (j - 1) + 1, i - 1].set_yscale(\n",
    "            \"symlog\",\n",
    "            linthresh=0.1,\n",
    "            linscale=0.1,\n",
    "        )\n",
    "        ax[2 * (j - 1) + 1, i - 1].set_ylim(-10, 10)\n",
    "\n",
    "        ax[2 * (j - 1), i - 1].set_xscale(\"log\")\n",
    "        ax[2 * (j - 1), i - 1].set_xlim(5, lmax * 2)\n",
    "        ax[2 * (j - 1) + 1, i - 1].set_xscale(\"log\")\n",
    "        ax[2 * (j - 1) + 1, i - 1].set_xlim(5, lmax * 2)\n",
    "        if i > 1:\n",
    "            ax[2 * (j - 1), i - 1].set_yticklabels([])\n",
    "            ax[2 * (j - 1) + 1, i - 1].set_yticklabels([])\n",
    "\n",
    "# ax[0, 0].set_xscale(\"log\")\n",
    "# ax[0, 0].set_xlim(1 / 2, lmax * 2)\n",
    "ax[0, 0].xaxis.get_major_locator().set_params(numticks=99)\n",
    "ax[0, 0].xaxis.get_minor_locator().set_params(\n",
    "    numticks=99, subs=np.arange(0.1, 1.0, 0.1)\n",
    ")\n",
    "# ax[0, 0].set_yscale(\n",
    "#    \"symlog\", linthresh=1e-9, linscale=0.45, subs=np.arange(0.1, 1.0, 0.1)\n",
    "# )\n",
    "# ax[0, 0].set_ylim(-8e-7, 4e-7)\n",
    "\n",
    "fig.subplots_adjust(left=0.0, bottom=0.0, right=1.0, top=1.0, wspace=0.0, hspace=0.0)\n",
    "\n",
    "fig.supxlabel(\"angular mode $\\\\ell$\", y=-0.05, va=\"top\")\n",
    "fig.supylabel(\"galaxy--galaxy lensing $C_\\\\ell$\", x=-0.1, ha=\"right\")\n",
    "\n",
    "plt.show()"
   ]
  }
 ],
 "metadata": {
  "kernelspec": {
   "display_name": "gitd",
   "language": "python",
   "name": "python3"
  },
  "language_info": {
   "codemirror_mode": {
    "name": "ipython",
    "version": 3
   },
   "file_extension": ".py",
   "mimetype": "text/x-python",
   "name": "python",
   "nbconvert_exporter": "python",
   "pygments_lexer": "ipython3",
   "version": "3.13.2"
  }
 },
 "nbformat": 4,
 "nbformat_minor": 4
}
