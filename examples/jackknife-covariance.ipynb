{
 "cells": [
  {
   "cell_type": "markdown",
   "metadata": {},
   "source": [
    "# Covariance for Angular Power Spectra with *Heracles*"
   ]
  },
  {
   "cell_type": "markdown",
   "metadata": {},
   "source": [
    "This notebook demonstrates how *Heracles* computes an estimate of the covariance of the two-point statistics from a 3×2pt catalogue using the DICES method. This tutorial is heavily based on the summary statisitcs tutorial so we will reproduce the results found in said tutorial without going into the details of the analysis. We will then show how to compute the covariance of the angular power spectra using *Heracles*."
   ]
  },
  {
   "cell_type": "markdown",
   "metadata": {},
   "source": [
    "<div class=\"alert alert-info\">\n",
    "\n",
    "**Important note**\n",
    "\n",
    "This notebook is only meant to give you an idea of **how *Heracles* works**.\n",
    "\n",
    "It does **not** show everything that *Heracles* can do.\n",
    "\n",
    "**This is a toy, treat it is such!**\n",
    "\n",
    "</div>"
   ]
  },
  {
   "cell_type": "markdown",
   "metadata": {},
   "source": [
    "## Setup"
   ]
  },
  {
   "cell_type": "code",
   "execution_count": 1,
   "metadata": {},
   "outputs": [
    {
     "data": {
      "application/vnd.jupyter.widget-view+json": {
       "model_id": "121bc7db8d2045399778728b965fbdde",
       "version_major": 2,
       "version_minor": 0
      },
      "text/plain": [
       "VBox()"
      ]
     },
     "metadata": {},
     "output_type": "display_data"
    }
   ],
   "source": [
    "import numpy as np\n",
    "import healpy as hp\n",
    "import matplotlib.pyplot as plt\n",
    "import heracles\n",
    "import heracles.healpy\n",
    "from heracles.notebook import Progress\n",
    "\n",
    "# Covariance code\n",
    "import heracles.dices as dices\n",
    "\n",
    "import helpers\n",
    "\n",
    "with Progress(\"example data\") as progress:\n",
    "    helpers.get_example_data(progress)"
   ]
  },
  {
   "cell_type": "markdown",
   "metadata": {},
   "source": [
    "## Basic parameters"
   ]
  },
  {
   "cell_type": "markdown",
   "metadata": {},
   "source": [
    "This is the resolution parameter for measuring spectra from *HEALPix* maps.  Here, we use `nside = 128` since that is the resolution at which the example data has been created. A value `lmax` of approximate 1.5x `nside` is fairly safe in terms of errors introduced by *HEALPix*. For the purpose of this tutorial we will only use 3 tomographic bins."
   ]
  },
  {
   "cell_type": "code",
   "execution_count": 2,
   "metadata": {},
   "outputs": [],
   "source": [
    "nside = 64\n",
    "lmax = 80\n",
    "nbins = 3"
   ]
  },
  {
   "cell_type": "markdown",
   "metadata": {},
   "source": [
    "## Prepare maps"
   ]
  },
  {
   "cell_type": "markdown",
   "metadata": {},
   "source": [
    "For this tutorial we will use the same data as in the summary statistics tutorial. Note that the maps generated in the summary statistics tutorial might have a different resolution. Therefore we will have to up/down-scale them accordingly. Doing so, unfortunately destroys the metadata of the maps. Therefore we will have to manually re-enter the metadata."
   ]
  },
  {
   "cell_type": "code",
   "execution_count": 3,
   "metadata": {},
   "outputs": [],
   "source": [
    "from heracles.healpy import HealpixMapper\n",
    "from heracles.fields import Positions, Shears, Visibility, Weights\n",
    "\n",
    "data_maps = heracles.read_maps(\"example-data_maps.fits\")\n",
    "mapper = HealpixMapper(nside=nside, lmax=lmax)\n",
    "fields = {\n",
    "    \"POS\": Positions(mapper, mask=\"VIS\"),\n",
    "    \"SHE\": Shears(mapper, mask=\"WHT\"),\n",
    "    \"VIS\": Visibility(mapper),\n",
    "    \"WHT\": Weights(mapper),\n",
    "}"
   ]
  },
  {
   "cell_type": "code",
   "execution_count": 4,
   "metadata": {},
   "outputs": [],
   "source": [
    "data_maps = heracles.read_maps(\"example-data_maps.fits\")\n",
    "for key in list(data_maps.keys()):\n",
    "    f, i = key\n",
    "    if i <= nbins-1:\n",
    "        _map = data_maps[key]\n",
    "        meta = _map.dtype.metadata\n",
    "        new_map = hp.ud_grade(_map, nside)\n",
    "        heracles.update_metadata(\n",
    "            new_map,\n",
    "            nside=nside,\n",
    "            lmax=lmax,\n",
    "            bias=meta[\"bias\"],\n",
    "            fsky=meta[\"fsky\"],\n",
    "            spin=meta[\"spin\"],\n",
    "        )\n",
    "        data_maps[key] = new_map\n",
    "    else:\n",
    "        data_maps.pop(key)\n",
    "\n",
    "# load the FITS mask\n",
    "vis_map = hp.read_map(\"vmap.fits.gz\")\n",
    "vis_map[vis_map == hp.UNSEEN] = 0.0\n",
    "vis_map = hp.ud_grade(vis_map, nside)\n",
    "heracles.update_metadata(\n",
    "    vis_map,\n",
    "    nside=nside,\n",
    "    lmax=lmax,\n",
    "    bias=0.0,\n",
    "    fsky=meta[\"fsky\"],\n",
    "    spin=0,\n",
    ")\n",
    "vis_maps = {}\n",
    "for key in list(data_maps.keys()):\n",
    "    f, i = key\n",
    "    if f == \"POS\":\n",
    "        f = \"VIS\"\n",
    "    if f == \"SHE\":\n",
    "        f = \"WHT\"\n",
    "    key = (f, i)\n",
    "    vis_maps[key] = vis_map"
   ]
  },
  {
   "cell_type": "markdown",
   "metadata": {},
   "source": [
    "## Jackknife Regions"
   ]
  },
  {
   "cell_type": "markdown",
   "metadata": {},
   "source": [
    "The fundamental idea behind Jackknife approaches is to generate an ensemble of angular power spectra by leaving out one of the regions at a time. The covariance of the angular power spectra can then be estimated from the variance of the ensemble. Therefore, the first step is to divide the mask of the survey into regions. In order to do so, in this tutorial we will make use of the SkySegmentor library. However, any library that segments the sky into regions can be used."
   ]
  },
  {
   "cell_type": "code",
   "execution_count": 5,
   "metadata": {},
   "outputs": [],
   "source": [
    "import skysegmentor"
   ]
  },
  {
   "cell_type": "code",
   "execution_count": 6,
   "metadata": {},
   "outputs": [],
   "source": [
    "jk_maps = {}\n",
    "Njk = 10\n",
    "jk_map = skysegmentor.segmentmapN(vis_map, Njk)\n",
    "for key in list(vis_maps.keys()):\n",
    "    jk_maps[key] = jk_map"
   ]
  },
  {
   "cell_type": "code",
   "execution_count": 7,
   "metadata": {},
   "outputs": [
    {
     "data": {
      "image/png": "[encoded data removed]",
      "text/plain": [
       "<Figure size 850x540 with 2 Axes>"
      ]
     },
     "metadata": {},
     "output_type": "display_data"
    }
   ],
   "source": [
    "hp.mollview(jk_maps[(\"VIS\", 1)])"
   ]
  },
  {
   "cell_type": "markdown",
   "metadata": {},
   "source": [
    "## Two-point statistics"
   ]
  },
  {
   "cell_type": "markdown",
   "metadata": {},
   "source": [
    "Since the computation of the two-point statistics was already covered in the summary statistics tutorial, we will not go into the details of the analysis. We will simply load the results from the summary statistics tutorial and use them to compute the covariance of the angular power spectra."
   ]
  },
  {
   "cell_type": "code",
   "execution_count": 8,
   "metadata": {},
   "outputs": [
    {
     "name": "stdout",
     "output_type": "stream",
     "text": [
      " - Computing Cls for regions (0,0)\r"
     ]
    }
   ],
   "source": [
    "cls0 = dices.jackknife_cls(data_maps, vis_maps, jk_maps, fields, nd=0)[()]"
   ]
  },
  {
   "cell_type": "markdown",
   "metadata": {},
   "source": [
    "## Theory"
   ]
  },
  {
   "cell_type": "markdown",
   "metadata": {},
   "source": [
    "Similarly, in this tutorial we will limit ourselves to loading the thoeory power spectra from the summary statistics tutorial."
   ]
  },
  {
   "cell_type": "code",
   "execution_count": 9,
   "metadata": {},
   "outputs": [],
   "source": [
    "theory = heracles.read(\"example-theory.fits\")\n",
    "theory_cls = {}\n",
    "for key in list(cls0.keys()):\n",
    "    theory_cls[key] = theory[key][..., : lmax + 1]"
   ]
  },
  {
   "cell_type": "markdown",
   "metadata": {},
   "source": [
    "## Ensemble Computation"
   ]
  },
  {
   "cell_type": "markdown",
   "metadata": {},
   "source": [
    "Compute the ensemble of angular power spectrum effectively boils down to repeating the process presented in the two-point statistics section removing one of the jackknife regions at a time. However, a couple of extra considerations have to be made.\n",
    "\n",
    "\n",
    "When computing the angular power spectra from catalogues, removing one of the jackknife regions changes the sample variance of the angular power spectra by a factor of \n",
    "$$\n",
    "b_{jk} = b (1-\\frac{1}{N})\n",
    "$$\n",
    "\n",
    "Moreover, removing of the jackknife regions also changes the footprint of the survey which can introduce additional mixing betweeen E- and B-modes. Heracles is equiped with a mask correction routine that corrects for this effect by transforming the angular power spectra to real space, dividing the correlation function of the ratio of new footprint to the old footprint and transforming back to harmonic space. \n",
    "$$\n",
    " C_\\ell \\rightarrow \\xi(\\theta) \\\\\n",
    " M_\\ell \\rightarrow \\xi_m(\\theta) \\\\\n",
    " M^{\\rm jk}(\\theta) \\rightarrow \\xi^{\\rm jk}_m(\\theta) \\\\\n",
    "$$\n",
    "$$\n",
    "\\bar{\\xi}(\\theta) = \\xi(\\theta) \\frac{\\xi_m(\\theta)}{\\xi^{\\rm jk}_m(\\theta)} \\\\\n",
    "$$\n",
    "$$\n",
    "\\bar{\\xi}(\\theta) \\rightarrow \\bar{C}_\\ell\n",
    "$$"
   ]
  },
  {
   "cell_type": "code",
   "execution_count": 10,
   "metadata": {},
   "outputs": [
    {
     "name": "stdout",
     "output_type": "stream",
     "text": [
      " - Computing Cls for regions (10,0)\r"
     ]
    }
   ],
   "source": [
    "cls1 = dices.jackknife_cls(data_maps, vis_maps, jk_maps, fields, nd=1)"
   ]
  },
  {
   "cell_type": "markdown",
   "metadata": {},
   "source": [
    "To add numerically stability to our computations, we will also bin the ensemble of angular power spectra."
   ]
  },
  {
   "cell_type": "code",
   "execution_count": 11,
   "metadata": {},
   "outputs": [],
   "source": [
    "nlbins = 10\n",
    "ell = np.arange(lmax + 1)\n",
    "ledges = np.logspace(np.log10(10), np.log10(lmax), nlbins + 1)\n",
    "lgrid = (ledges[1:] + ledges[:-1]) / 2"
   ]
  },
  {
   "cell_type": "code",
   "execution_count": 12,
   "metadata": {},
   "outputs": [],
   "source": [
    "cqs0 = heracles.binned(cls0, ledges)\n",
    "cqs1 = heracles.binned(cls1, ledges)"
   ]
  },
  {
   "cell_type": "markdown",
   "metadata": {},
   "source": [
    "## Jackknife Covariance\n",
    "\n",
    "The delete-one covariance is computed by measuring the covariance matrix of the ensemble of delete-one angular power spectra. The covariance matrix of an ensemble of $K$ vector variables $x \\in \\mathbb{R}^N$ is defined as:\n",
    "$$\n",
    "\\mathbb{C}_{ij} = \\mathbb{E} \\left[ (x_i - \\bar{x_i}) (x_j - \\bar{x_j})^T \\right]_k \\, ,\n",
    "$$\n",
    "where $\\bar{x_i} = \\mathbb{E}[x_{ik}]_k = \\frac{1}{K} \\sum_k^K x_{ik}$ is the mean over the ensemble. Therefore, one can define any covariance matrix as an expectation over an ensemble of matrices with entries:\n",
    "$$\n",
    "W(x)_{ijk} = (x_{ik} - \\bar{x_i}) (x_{jk} - \\bar{x_j}) \\, .\n",
    "$$\n",
    "such that $\\mathbb{C}_{ij} = \\mathbb{E} [W(x)_{ijk}]_k$. Therefore and associating $x$ with the angular power spectra, the computation of the delete-one covariance is then given by:\n",
    "$$\n",
    "\\mathbb{C}^{\\rm JK}_{ij} = (K-1) \\mathbb{E} [W(x)_{ijk}]_k \\, .\n",
    "$$\n",
    "\n",
    "Analyzing the equation above we can understand better the Jackknife approach. As we increase the number of jackknife regions, the size of each indiviual regions decreases meaning that\n",
    "$$\n",
    "\\rm{lim}_{K \\rightarrow \\infty} (x_{ik} - \\bar{x_i}) = 0 \\, ,\n",
    "$$\n",
    "such that $W_{ijk} \\rightarrow 0$ and thus $\\mathbb{E} [W_{ijk}]_k \\rightarrow 0$.\n",
    "However, the prefactor $(K-1)$ ensures that the Jackknige covariance doesn't vanish as $K$ increases."
   ]
  },
  {
   "cell_type": "code",
   "execution_count": 13,
   "metadata": {},
   "outputs": [],
   "source": [
    "cov_jk = dices.jackknife_covariance(cqs1)"
   ]
  },
  {
   "cell_type": "code",
   "execution_count": 14,
   "metadata": {},
   "outputs": [
    {
     "data": {
      "image/png": "[encoded data removed]",
      "text/plain": [
       "<Figure size 640x480 with 2 Axes>"
      ]
     },
     "metadata": {},
     "output_type": "display_data"
    }
   ],
   "source": [
    "plt.imshow(\n",
    "    cov_jk[(\"POS\", \"POS\", \"POS\", \"POS\", 1, 1, 1, 1)][0, 0, :, :],\n",
    "    vmin=-2.5 * 10**-14,\n",
    "    vmax=2.5 * 10**-14,\n",
    "    cmap=\"seismic\",\n",
    ")\n",
    "plt.colorbar()\n",
    "plt.title(\"Delete-1 covariance\")\n",
    "plt.ylabel(r\"$\\ell$\")\n",
    "plt.xlabel(r\"$\\ell$\")\n",
    "plt.show()"
   ]
  },
  {
   "cell_type": "markdown",
   "metadata": {},
   "source": [
    "## Debiasing\n",
    "\n",
    "It can be shown that the Jackknife covariance errors (i.e. its diagonal entries) tend to be biased high. In other words, the Jackknife covariance matrix overestimates the variances of the angular power spectra. In order to address this, the DICES covariances introduces a second ensemble of angular power spectra, the delete-two ensemble. The delete-two ensemble is computed by removing two jackknife regions at a time"
   ]
  },
  {
   "cell_type": "code",
   "execution_count": 15,
   "metadata": {},
   "outputs": [
    {
     "name": "stdout",
     "output_type": "stream",
     "text": [
      " - Computing Cls for regions (9,10)\r"
     ]
    }
   ],
   "source": [
    "cls2 = dices.jackknife_cls(data_maps, vis_maps, jk_maps, fields, nd=2)\n",
    "cqs2 = heracles.binned(cls2, ledges)"
   ]
  },
  {
   "cell_type": "markdown",
   "metadata": {},
   "source": [
    "Once, the delete-two ensemble is computed, the correction can be obtained by computing the expressions:\n",
    "$$\n",
    "q_{p} = K x_0 - (K-1) (x_{1 \\, k} + x_{1 \\, k'}) + (K-2) x_{2 \\, k} \\, ,\n",
    "$$\n",
    "where $x_0$ denotes the concatenated angular power spectra of the full survey, $x_{1 \\, k}$ and $x_{1 \\, k'}$ denote the concatenated angular power spectra of the survey with the $k$-th and $k'$-th jackknife regions removed respectively, and $x_{2 \\, p}$ denotes the concatenated angular power spectra of the survey with both the $k$-th and $k'$-th jackknife regions removed. Note that $p$ is an iterator that runs from 1 to $K(K-1)/2$ related to the combinations of $k$ and $k'$. \n",
    "\n",
    "Now we need to compute the variance of the q-ensemble. In order to do so, we can use the same framework as for the delete-one matrices substituting $q$ for $x$ in the expression for $W$. The correction is then given by:\n",
    "$$\n",
    "Q_{ij} = \\frac{K(K-1)-2}{2K(K+1)} \\mathbb{E} [W(q)_{ijp}]_{p} \\, .\n",
    "$$\n",
    "\n",
    "Finally the debiased covariance matrix is given by:\n",
    "$$\n",
    "\\mathbb{C}^{\\rm debiased} = \\mathbb{C}^{\\rm JK} - Q \\, .\n",
    "$$"
   ]
  },
  {
   "cell_type": "code",
   "execution_count": 16,
   "metadata": {},
   "outputs": [],
   "source": [
    "debiased_cov_jk = dices.debias_covariance(\n",
    "    cov_jk,\n",
    "    cqs0,\n",
    "    cqs1,\n",
    "    cqs2,\n",
    ")"
   ]
  },
  {
   "cell_type": "code",
   "execution_count": 17,
   "metadata": {},
   "outputs": [
    {
     "data": {
      "image/png": "[encoded data removed]",
      "text/plain": [
       "<Figure size 640x480 with 2 Axes>"
      ]
     },
     "metadata": {},
     "output_type": "display_data"
    }
   ],
   "source": [
    "plt.imshow(\n",
    "    debiased_cov_jk[(\"POS\", \"POS\", \"POS\", \"POS\", 1, 1, 1, 1)][0, 0, :, :],\n",
    "    vmin=-2.5 * 10**-14,\n",
    "    vmax=2.5 * 10**-14,\n",
    "    cmap=\"seismic\",\n",
    ")\n",
    "plt.colorbar()\n",
    "plt.title(\"Debiased Covariance\")\n",
    "plt.ylabel(r\"$\\ell$\")\n",
    "plt.xlabel(r\"$\\ell$\")\n",
    "plt.show()"
   ]
  },
  {
   "cell_type": "code",
   "execution_count": 18,
   "metadata": {},
   "outputs": [],
   "source": [
    "gauss_cov = dices.gaussian_covariance(cqs0)"
   ]
  },
  {
   "cell_type": "code",
   "execution_count": 19,
   "metadata": {},
   "outputs": [
    {
     "name": "stdout",
     "output_type": "stream",
     "text": [
      "55 55\n"
     ]
    }
   ],
   "source": [
    "print(len(debiased_cov_jk), len(gauss_cov))"
   ]
  },
  {
   "cell_type": "code",
   "execution_count": 20,
   "metadata": {},
   "outputs": [],
   "source": [
    "_debiased_cov_jk = dices.Fields2Components(debiased_cov_jk)\n",
    "_gauss_cov = dices.Fields2Components(gauss_cov)"
   ]
  },
  {
   "cell_type": "code",
   "execution_count": 21,
   "metadata": {},
   "outputs": [
    {
     "name": "stdout",
     "output_type": "stream",
     "text": [
      "247 247\n"
     ]
    }
   ],
   "source": [
    "print(len(_debiased_cov_jk), len(_gauss_cov))"
   ]
  },
  {
   "cell_type": "code",
   "execution_count": 22,
   "metadata": {},
   "outputs": [
    {
     "name": "stdout",
     "output_type": "stream",
     "text": [
      "[1.48979785e-13 1.70967457e-13 3.54321577e-13 5.40839050e-13\n",
      " 4.71874941e-13 4.66322268e-13 2.45815820e-13 1.17164283e-13\n",
      " 1.27905793e-13 6.81583985e-14]\n",
      "[1.46146585e-13 1.67931407e-13 3.49944899e-13 5.35428555e-13\n",
      " 4.66822057e-13 4.61299281e-13 2.42172646e-13 1.14653293e-13\n",
      " 1.25281614e-13 6.62464566e-14]\n",
      "====\n",
      "[8.11565252e-19 5.62015245e-19 5.85219120e-19 6.37177532e-19\n",
      " 3.40335349e-19 2.99941706e-19 4.07314226e-19 3.15695318e-19\n",
      " 2.94897635e-19 1.64713272e-19]\n",
      "[3.52873274e-19 1.96106353e-19 2.09909088e-19 2.41470243e-19\n",
      " 7.64770750e-20 5.79998351e-20 1.09808695e-19 6.50402576e-20\n",
      " 5.57937428e-20 9.80318587e-21]\n",
      "====\n",
      "[9.46166728e-20 8.89674236e-20 5.52104630e-20 8.51203548e-20\n",
      " 1.81627756e-19 1.53638882e-19 3.24232429e-19 1.61686786e-19\n",
      " 1.32012984e-19 9.31368288e-20]\n",
      "[5.78272594e-25 7.33372290e-23 5.16511324e-21 2.27522891e-22\n",
      " 1.42421048e-20 7.24714583e-21 6.89463237e-20 9.07545140e-21\n",
      " 3.19203763e-21 2.73743521e-24]\n",
      "====\n",
      "[4.77719467e-13 3.89794677e-13 1.36418276e-13 2.53055771e-13\n",
      " 2.80462897e-13 2.05450285e-13 2.89293177e-13 1.23631320e-13\n",
      " 8.84599897e-14 6.01915420e-14]\n",
      "[4.72575150e-13 3.85149168e-13 1.33675742e-13 2.49315444e-13\n",
      " 2.76524494e-13 2.02081469e-13 2.85293038e-13 1.21021150e-13\n",
      " 8.62542429e-14 5.83744892e-14]\n",
      "====\n",
      "[1.18789396e-18 2.88925623e-18 2.69375885e-18 1.78427280e-18\n",
      " 1.38494888e-18 1.86216415e-18 8.41180799e-19 4.87029208e-19\n",
      " 7.19615100e-19 5.48887287e-19]\n",
      "[6.07380384e-19 1.92993741e-18 1.77078403e-18 1.05105019e-18\n",
      " 7.50439570e-19 1.11102561e-18 3.67963236e-19 1.50013235e-19\n",
      " 2.89166399e-19 1.85166627e-19]\n",
      "====\n",
      "[3.25955771e-19 3.40761164e-19 1.46930619e-19 9.23459405e-20\n",
      " 8.91104553e-20 1.45227902e-19 1.66128491e-19 1.78747746e-19\n",
      " 1.68290082e-19 1.38108424e-19]\n",
      "[6.77904567e-20 7.46317701e-20 5.29342706e-21 4.45504140e-23\n",
      " 1.45096828e-22 4.97425930e-21 9.41467939e-21 1.25947511e-20\n",
      " 9.93458401e-21 3.72955216e-21]\n",
      "====\n"
     ]
    }
   ],
   "source": [
    "_cqs0 = dices.Fields2Components(cqs0)\n",
    "for key in list(_gauss_cov.keys()):\n",
    "    a1, b1, a2, b2, i1, j1, i2, j2 = key\n",
    "    key1 = a1, b1, i1, j1\n",
    "    key2 = a2, b2, i2, j2\n",
    "    if (key1 == key2) and ((a1, i1) == (b1, j1)) and ((a2, i2) == (b2, j2)):\n",
    "        g = np.diag(_gauss_cov[key].array)\n",
    "        __g = 2*_cqs0[key1].array**2\n",
    "        print(g)\n",
    "        print(__g)\n",
    "        print(\"====\")\n",
    "        #assert (g == __g).all()"
   ]
  },
  {
   "cell_type": "markdown",
   "metadata": {},
   "source": [
    "## Results"
   ]
  },
  {
   "cell_type": "code",
   "execution_count": 23,
   "metadata": {},
   "outputs": [
    {
     "ename": "ValueError",
     "evalue": "Expected the given number of height ratios to match the number of rows of the grid",
     "output_type": "error",
     "traceback": [
      "\u001b[0;31m---------------------------------------------------------------------------\u001b[0m",
      "\u001b[0;31mValueError\u001b[0m                                Traceback (most recent call last)",
      "Cell \u001b[0;32mIn[23], line 1\u001b[0m\n\u001b[0;32m----> 1\u001b[0m fig, ax \u001b[38;5;241m=\u001b[39m \u001b[43mplt\u001b[49m\u001b[38;5;241;43m.\u001b[39;49m\u001b[43msubplots\u001b[49m\u001b[43m(\u001b[49m\n\u001b[1;32m      2\u001b[0m \u001b[43m    \u001b[49m\u001b[38;5;241;43m2\u001b[39;49m\u001b[43m \u001b[49m\u001b[38;5;241;43m*\u001b[39;49m\u001b[43m \u001b[49m\u001b[43m(\u001b[49m\u001b[43mnbins\u001b[49m\u001b[43m \u001b[49m\u001b[38;5;241;43m-\u001b[39;49m\u001b[43m \u001b[49m\u001b[38;5;241;43m1\u001b[39;49m\u001b[43m)\u001b[49m\u001b[43m,\u001b[49m\n\u001b[1;32m      3\u001b[0m \u001b[43m    \u001b[49m\u001b[43mnbins\u001b[49m\u001b[43m \u001b[49m\u001b[38;5;241;43m-\u001b[39;49m\u001b[43m \u001b[49m\u001b[38;5;241;43m1\u001b[39;49m\u001b[43m,\u001b[49m\n\u001b[1;32m      4\u001b[0m \u001b[43m    \u001b[49m\u001b[43mfigsize\u001b[49m\u001b[38;5;241;43m=\u001b[39;49m\u001b[43m(\u001b[49m\u001b[38;5;241;43m9\u001b[39;49m\u001b[43m,\u001b[49m\u001b[43m \u001b[49m\u001b[38;5;241;43m9\u001b[39;49m\u001b[43m)\u001b[49m\u001b[43m,\u001b[49m\n\u001b[1;32m      5\u001b[0m \u001b[43m    \u001b[49m\u001b[43mgridspec_kw\u001b[49m\u001b[38;5;241;43m=\u001b[39;49m\u001b[43m{\u001b[49m\u001b[38;5;124;43m\"\u001b[39;49m\u001b[38;5;124;43mheight_ratios\u001b[39;49m\u001b[38;5;124;43m\"\u001b[39;49m\u001b[43m:\u001b[49m\u001b[43m \u001b[49m\u001b[43m[\u001b[49m\u001b[38;5;241;43m3\u001b[39;49m\u001b[43m,\u001b[49m\u001b[43m \u001b[49m\u001b[38;5;241;43m1\u001b[39;49m\u001b[43m,\u001b[49m\u001b[43m \u001b[49m\u001b[38;5;241;43m3\u001b[39;49m\u001b[43m,\u001b[49m\u001b[43m \u001b[49m\u001b[38;5;241;43m1\u001b[39;49m\u001b[43m,\u001b[49m\u001b[43m \u001b[49m\u001b[38;5;241;43m3\u001b[39;49m\u001b[43m,\u001b[49m\u001b[43m \u001b[49m\u001b[38;5;241;43m1\u001b[39;49m\u001b[43m]\u001b[49m\u001b[43m}\u001b[49m\u001b[43m,\u001b[49m\n\u001b[1;32m      6\u001b[0m \u001b[43m)\u001b[49m\n\u001b[1;32m      9\u001b[0m \u001b[38;5;28;01mfor\u001b[39;00m i \u001b[38;5;129;01min\u001b[39;00m \u001b[38;5;28mrange\u001b[39m(\u001b[38;5;241m1\u001b[39m, nbins):\n\u001b[1;32m     10\u001b[0m     \u001b[38;5;28;01mfor\u001b[39;00m j \u001b[38;5;129;01min\u001b[39;00m \u001b[38;5;28mrange\u001b[39m(\u001b[38;5;241m1\u001b[39m, i):\n",
      "File \u001b[0;32m~/anaconda3/envs/gitd/lib/python3.13/site-packages/matplotlib/pyplot.py:1776\u001b[0m, in \u001b[0;36msubplots\u001b[0;34m(nrows, ncols, sharex, sharey, squeeze, width_ratios, height_ratios, subplot_kw, gridspec_kw, **fig_kw)\u001b[0m\n\u001b[1;32m   1631\u001b[0m \u001b[38;5;250m\u001b[39m\u001b[38;5;124;03m\"\"\"\u001b[39;00m\n\u001b[1;32m   1632\u001b[0m \u001b[38;5;124;03mCreate a figure and a set of subplots.\u001b[39;00m\n\u001b[1;32m   1633\u001b[0m \n\u001b[0;32m   (...)\u001b[0m\n\u001b[1;32m   1773\u001b[0m \n\u001b[1;32m   1774\u001b[0m \u001b[38;5;124;03m\"\"\"\u001b[39;00m\n\u001b[1;32m   1775\u001b[0m fig \u001b[38;5;241m=\u001b[39m figure(\u001b[38;5;241m*\u001b[39m\u001b[38;5;241m*\u001b[39mfig_kw)\n\u001b[0;32m-> 1776\u001b[0m axs \u001b[38;5;241m=\u001b[39m \u001b[43mfig\u001b[49m\u001b[38;5;241;43m.\u001b[39;49m\u001b[43msubplots\u001b[49m\u001b[43m(\u001b[49m\u001b[43mnrows\u001b[49m\u001b[38;5;241;43m=\u001b[39;49m\u001b[43mnrows\u001b[49m\u001b[43m,\u001b[49m\u001b[43m \u001b[49m\u001b[43mncols\u001b[49m\u001b[38;5;241;43m=\u001b[39;49m\u001b[43mncols\u001b[49m\u001b[43m,\u001b[49m\u001b[43m \u001b[49m\u001b[43msharex\u001b[49m\u001b[38;5;241;43m=\u001b[39;49m\u001b[43msharex\u001b[49m\u001b[43m,\u001b[49m\u001b[43m \u001b[49m\u001b[43msharey\u001b[49m\u001b[38;5;241;43m=\u001b[39;49m\u001b[43msharey\u001b[49m\u001b[43m,\u001b[49m\n\u001b[1;32m   1777\u001b[0m \u001b[43m                   \u001b[49m\u001b[43msqueeze\u001b[49m\u001b[38;5;241;43m=\u001b[39;49m\u001b[43msqueeze\u001b[49m\u001b[43m,\u001b[49m\u001b[43m \u001b[49m\u001b[43msubplot_kw\u001b[49m\u001b[38;5;241;43m=\u001b[39;49m\u001b[43msubplot_kw\u001b[49m\u001b[43m,\u001b[49m\n\u001b[1;32m   1778\u001b[0m \u001b[43m                   \u001b[49m\u001b[43mgridspec_kw\u001b[49m\u001b[38;5;241;43m=\u001b[39;49m\u001b[43mgridspec_kw\u001b[49m\u001b[43m,\u001b[49m\u001b[43m \u001b[49m\u001b[43mheight_ratios\u001b[49m\u001b[38;5;241;43m=\u001b[39;49m\u001b[43mheight_ratios\u001b[49m\u001b[43m,\u001b[49m\n\u001b[1;32m   1779\u001b[0m \u001b[43m                   \u001b[49m\u001b[43mwidth_ratios\u001b[49m\u001b[38;5;241;43m=\u001b[39;49m\u001b[43mwidth_ratios\u001b[49m\u001b[43m)\u001b[49m\n\u001b[1;32m   1780\u001b[0m \u001b[38;5;28;01mreturn\u001b[39;00m fig, axs\n",
      "File \u001b[0;32m~/anaconda3/envs/gitd/lib/python3.13/site-packages/matplotlib/figure.py:918\u001b[0m, in \u001b[0;36mFigureBase.subplots\u001b[0;34m(self, nrows, ncols, sharex, sharey, squeeze, width_ratios, height_ratios, subplot_kw, gridspec_kw)\u001b[0m\n\u001b[1;32m    914\u001b[0m         \u001b[38;5;28;01mraise\u001b[39;00m \u001b[38;5;167;01mValueError\u001b[39;00m(\u001b[38;5;124m\"\u001b[39m\u001b[38;5;124m'\u001b[39m\u001b[38;5;124mwidth_ratios\u001b[39m\u001b[38;5;124m'\u001b[39m\u001b[38;5;124m must not be defined both as \u001b[39m\u001b[38;5;124m\"\u001b[39m\n\u001b[1;32m    915\u001b[0m                          \u001b[38;5;124m\"\u001b[39m\u001b[38;5;124mparameter and as key in \u001b[39m\u001b[38;5;124m'\u001b[39m\u001b[38;5;124mgridspec_kw\u001b[39m\u001b[38;5;124m'\u001b[39m\u001b[38;5;124m\"\u001b[39m)\n\u001b[1;32m    916\u001b[0m     gridspec_kw[\u001b[38;5;124m'\u001b[39m\u001b[38;5;124mwidth_ratios\u001b[39m\u001b[38;5;124m'\u001b[39m] \u001b[38;5;241m=\u001b[39m width_ratios\n\u001b[0;32m--> 918\u001b[0m gs \u001b[38;5;241m=\u001b[39m \u001b[38;5;28;43mself\u001b[39;49m\u001b[38;5;241;43m.\u001b[39;49m\u001b[43madd_gridspec\u001b[49m\u001b[43m(\u001b[49m\u001b[43mnrows\u001b[49m\u001b[43m,\u001b[49m\u001b[43m \u001b[49m\u001b[43mncols\u001b[49m\u001b[43m,\u001b[49m\u001b[43m \u001b[49m\u001b[43mfigure\u001b[49m\u001b[38;5;241;43m=\u001b[39;49m\u001b[38;5;28;43mself\u001b[39;49m\u001b[43m,\u001b[49m\u001b[43m \u001b[49m\u001b[38;5;241;43m*\u001b[39;49m\u001b[38;5;241;43m*\u001b[39;49m\u001b[43mgridspec_kw\u001b[49m\u001b[43m)\u001b[49m\n\u001b[1;32m    919\u001b[0m axs \u001b[38;5;241m=\u001b[39m gs\u001b[38;5;241m.\u001b[39msubplots(sharex\u001b[38;5;241m=\u001b[39msharex, sharey\u001b[38;5;241m=\u001b[39msharey, squeeze\u001b[38;5;241m=\u001b[39msqueeze,\n\u001b[1;32m    920\u001b[0m                   subplot_kw\u001b[38;5;241m=\u001b[39msubplot_kw)\n\u001b[1;32m    921\u001b[0m \u001b[38;5;28;01mreturn\u001b[39;00m axs\n",
      "File \u001b[0;32m~/anaconda3/envs/gitd/lib/python3.13/site-packages/matplotlib/figure.py:1600\u001b[0m, in \u001b[0;36mFigureBase.add_gridspec\u001b[0;34m(self, nrows, ncols, **kwargs)\u001b[0m\n\u001b[1;32m   1557\u001b[0m \u001b[38;5;250m\u001b[39m\u001b[38;5;124;03m\"\"\"\u001b[39;00m\n\u001b[1;32m   1558\u001b[0m \u001b[38;5;124;03mLow-level API for creating a `.GridSpec` that has this figure as a parent.\u001b[39;00m\n\u001b[1;32m   1559\u001b[0m \n\u001b[0;32m   (...)\u001b[0m\n\u001b[1;32m   1596\u001b[0m \n\u001b[1;32m   1597\u001b[0m \u001b[38;5;124;03m\"\"\"\u001b[39;00m\n\u001b[1;32m   1599\u001b[0m _ \u001b[38;5;241m=\u001b[39m kwargs\u001b[38;5;241m.\u001b[39mpop(\u001b[38;5;124m'\u001b[39m\u001b[38;5;124mfigure\u001b[39m\u001b[38;5;124m'\u001b[39m, \u001b[38;5;28;01mNone\u001b[39;00m)  \u001b[38;5;66;03m# pop in case user has added this...\u001b[39;00m\n\u001b[0;32m-> 1600\u001b[0m gs \u001b[38;5;241m=\u001b[39m \u001b[43mGridSpec\u001b[49m\u001b[43m(\u001b[49m\u001b[43mnrows\u001b[49m\u001b[38;5;241;43m=\u001b[39;49m\u001b[43mnrows\u001b[49m\u001b[43m,\u001b[49m\u001b[43m \u001b[49m\u001b[43mncols\u001b[49m\u001b[38;5;241;43m=\u001b[39;49m\u001b[43mncols\u001b[49m\u001b[43m,\u001b[49m\u001b[43m \u001b[49m\u001b[43mfigure\u001b[49m\u001b[38;5;241;43m=\u001b[39;49m\u001b[38;5;28;43mself\u001b[39;49m\u001b[43m,\u001b[49m\u001b[43m \u001b[49m\u001b[38;5;241;43m*\u001b[39;49m\u001b[38;5;241;43m*\u001b[39;49m\u001b[43mkwargs\u001b[49m\u001b[43m)\u001b[49m\n\u001b[1;32m   1601\u001b[0m \u001b[38;5;28;01mreturn\u001b[39;00m gs\n",
      "File \u001b[0;32m~/anaconda3/envs/gitd/lib/python3.13/site-packages/matplotlib/gridspec.py:363\u001b[0m, in \u001b[0;36mGridSpec.__init__\u001b[0;34m(self, nrows, ncols, figure, left, bottom, right, top, wspace, hspace, width_ratios, height_ratios)\u001b[0m\n\u001b[1;32m    360\u001b[0m \u001b[38;5;28mself\u001b[39m\u001b[38;5;241m.\u001b[39mhspace \u001b[38;5;241m=\u001b[39m hspace\n\u001b[1;32m    361\u001b[0m \u001b[38;5;28mself\u001b[39m\u001b[38;5;241m.\u001b[39mfigure \u001b[38;5;241m=\u001b[39m figure\n\u001b[0;32m--> 363\u001b[0m \u001b[38;5;28;43msuper\u001b[39;49m\u001b[43m(\u001b[49m\u001b[43m)\u001b[49m\u001b[38;5;241;43m.\u001b[39;49m\u001b[38;5;21;43m__init__\u001b[39;49m\u001b[43m(\u001b[49m\u001b[43mnrows\u001b[49m\u001b[43m,\u001b[49m\u001b[43m \u001b[49m\u001b[43mncols\u001b[49m\u001b[43m,\u001b[49m\n\u001b[1;32m    364\u001b[0m \u001b[43m                 \u001b[49m\u001b[43mwidth_ratios\u001b[49m\u001b[38;5;241;43m=\u001b[39;49m\u001b[43mwidth_ratios\u001b[49m\u001b[43m,\u001b[49m\n\u001b[1;32m    365\u001b[0m \u001b[43m                 \u001b[49m\u001b[43mheight_ratios\u001b[49m\u001b[38;5;241;43m=\u001b[39;49m\u001b[43mheight_ratios\u001b[49m\u001b[43m)\u001b[49m\n",
      "File \u001b[0;32m~/anaconda3/envs/gitd/lib/python3.13/site-packages/matplotlib/gridspec.py:54\u001b[0m, in \u001b[0;36mGridSpecBase.__init__\u001b[0;34m(self, nrows, ncols, height_ratios, width_ratios)\u001b[0m\n\u001b[1;32m     51\u001b[0m     \u001b[38;5;28;01mraise\u001b[39;00m \u001b[38;5;167;01mValueError\u001b[39;00m(\n\u001b[1;32m     52\u001b[0m         \u001b[38;5;124mf\u001b[39m\u001b[38;5;124m\"\u001b[39m\u001b[38;5;124mNumber of columns must be a positive integer, not \u001b[39m\u001b[38;5;132;01m{\u001b[39;00mncols\u001b[38;5;132;01m!r}\u001b[39;00m\u001b[38;5;124m\"\u001b[39m)\n\u001b[1;32m     53\u001b[0m \u001b[38;5;28mself\u001b[39m\u001b[38;5;241m.\u001b[39m_nrows, \u001b[38;5;28mself\u001b[39m\u001b[38;5;241m.\u001b[39m_ncols \u001b[38;5;241m=\u001b[39m nrows, ncols\n\u001b[0;32m---> 54\u001b[0m \u001b[38;5;28;43mself\u001b[39;49m\u001b[38;5;241;43m.\u001b[39;49m\u001b[43mset_height_ratios\u001b[49m\u001b[43m(\u001b[49m\u001b[43mheight_ratios\u001b[49m\u001b[43m)\u001b[49m\n\u001b[1;32m     55\u001b[0m \u001b[38;5;28mself\u001b[39m\u001b[38;5;241m.\u001b[39mset_width_ratios(width_ratios)\n",
      "File \u001b[0;32m~/anaconda3/envs/gitd/lib/python3.13/site-packages/matplotlib/gridspec.py:132\u001b[0m, in \u001b[0;36mGridSpecBase.set_height_ratios\u001b[0;34m(self, height_ratios)\u001b[0m\n\u001b[1;32m    130\u001b[0m     height_ratios \u001b[38;5;241m=\u001b[39m [\u001b[38;5;241m1\u001b[39m] \u001b[38;5;241m*\u001b[39m \u001b[38;5;28mself\u001b[39m\u001b[38;5;241m.\u001b[39m_nrows\n\u001b[1;32m    131\u001b[0m \u001b[38;5;28;01melif\u001b[39;00m \u001b[38;5;28mlen\u001b[39m(height_ratios) \u001b[38;5;241m!=\u001b[39m \u001b[38;5;28mself\u001b[39m\u001b[38;5;241m.\u001b[39m_nrows:\n\u001b[0;32m--> 132\u001b[0m     \u001b[38;5;28;01mraise\u001b[39;00m \u001b[38;5;167;01mValueError\u001b[39;00m(\u001b[38;5;124m'\u001b[39m\u001b[38;5;124mExpected the given number of height ratios to \u001b[39m\u001b[38;5;124m'\u001b[39m\n\u001b[1;32m    133\u001b[0m                      \u001b[38;5;124m'\u001b[39m\u001b[38;5;124mmatch the number of rows of the grid\u001b[39m\u001b[38;5;124m'\u001b[39m)\n\u001b[1;32m    134\u001b[0m \u001b[38;5;28mself\u001b[39m\u001b[38;5;241m.\u001b[39m_row_height_ratios \u001b[38;5;241m=\u001b[39m height_ratios\n",
      "\u001b[0;31mValueError\u001b[0m: Expected the given number of height ratios to match the number of rows of the grid"
     ]
    },
    {
     "data": {
      "text/plain": [
       "<Figure size 900x900 with 0 Axes>"
      ]
     },
     "metadata": {},
     "output_type": "display_data"
    }
   ],
   "source": [
    "fig, ax = plt.subplots(\n",
    "    2 * (nbins - 1),\n",
    "    nbins - 1,\n",
    "    figsize=(9, 9),\n",
    "    gridspec_kw={\"height_ratios\": [3, 1, 3, 1, 3, 1]},\n",
    ")\n",
    "\n",
    "\n",
    "for i in range(1, nbins):\n",
    "    for j in range(1, i):\n",
    "        ax[j - 1, i - 1].axis(\"off\")\n",
    "        ax[j, i - 1].axis(\"off\")\n",
    "    for j in range(i, nbins):\n",
    "        key = (\"POS\", \"POS\", i, j)\n",
    "        cov_key = (\"POS\", \"POS\", \"POS\", \"POS\", i, j, i, j)\n",
    "        c = debiased_cov_jk[cov_key][:, :]\n",
    "        err = np.sqrt(np.diag(c))\n",
    "        ax[2 * (j - 1), i - 1].errorbar(\n",
    "            lgrid, cqs0[key], yerr=err, c=\"C0\", lw=1.5, zorder=3.0, alpha=0.5\n",
    "        )\n",
    "        ax[2 * (j - 1), i - 1].plot(\n",
    "            ell[10:], theory_cls[key][10:], c=\"C0\", lw=1.0, zorder=4.0\n",
    "        )\n",
    "        ax[2 * (j - 1), i - 1].axhline(0.0, c=\"k\", lw=0.8, zorder=-1)\n",
    "        ax[2 * (j - 1) + 1, i - 1].errorbar(\n",
    "            lgrid,\n",
    "            (cqs0[key][:] - heracles.binned(theory_cls[key][1:], ledges))\n",
    "            / heracles.binned(theory_cls[key][1:], ledges),\n",
    "            yerr=np.abs(err / cqs0[key][:]),\n",
    "            fmt=\".\",\n",
    "            c=\"C0\",\n",
    "            lw=1.5,\n",
    "            zorder=1.0,\n",
    "            alpha=0.5,\n",
    "        )\n",
    "        ax[2 * (j - 1) + 1, i - 1].axhline(0.0, c=\"k\", lw=0.8, zorder=-1)\n",
    "\n",
    "        ax[2 * (j - 1), i - 1].tick_params(axis=\"both\", which=\"both\", direction=\"in\")\n",
    "        ax[2 * (j - 1), i - 1].set_yscale(\n",
    "            \"symlog\", linthresh=1e-7, linscale=0.45, subs=np.arange(0.1, 1.0, 0.1)\n",
    "        )\n",
    "        ax[2 * (j - 1), i - 1].set_ylim(-3e-7, 5e-6)\n",
    "        ax[2 * (j - 1) + 1, i - 1].set_yscale(\n",
    "            \"symlog\", linthresh=0.1, linscale=0.45, subs=np.arange(0.1, 1.0, 0.1)\n",
    "        )\n",
    "        ax[2 * (j - 1) + 1, i - 1].set_ylim(-10, 10)\n",
    "\n",
    "        ax[2 * (j - 1), i - 1].set_xscale(\"log\")\n",
    "        ax[2 * (j - 1), i - 1].set_xlim(5, lmax * 2)\n",
    "        ax[2 * (j - 1) + 1, i - 1].set_xscale(\"log\")\n",
    "        ax[2 * (j - 1) + 1, i - 1].set_xlim(5, lmax * 2)\n",
    "        if i > 1:\n",
    "            ax[2 * (j - 1), i - 1].set_yticklabels([])\n",
    "            ax[2 * (j - 1) + 1, i - 1].set_yticklabels([])\n",
    "\n",
    "\n",
    "fig.subplots_adjust(left=0.0, bottom=0.0, right=1.0, top=1.0, wspace=0.0, hspace=0.0)\n",
    "\n",
    "fig.supxlabel(\"angular mode $\\\\ell$\", y=-0.05, va=\"top\")\n",
    "fig.supylabel(\"galaxy clustering $C_\\\\ell$\", x=-0.1, ha=\"right\")\n",
    "\n",
    "plt.show()"
   ]
  },
  {
   "cell_type": "code",
   "execution_count": null,
   "metadata": {},
   "outputs": [],
   "source": [
    "fig, ax = plt.subplots(\n",
    "    2 * (nbins - 1),\n",
    "    nbins - 1,\n",
    "    figsize=(6, 6),\n",
    "    gridspec_kw={\"height_ratios\": [3, 1, 3, 1, 3, 1]},\n",
    ")\n",
    "\n",
    "for i in range(1, nbins):\n",
    "    for j in range(1, i):\n",
    "        ax[j - 1, i - 1].axis(\"off\")\n",
    "        ax[j, i - 1].axis(\"off\")\n",
    "    for j in range(i, nbins):\n",
    "        key = (\"SHE\", \"SHE\", i, j)\n",
    "        cov_key = (\"SHE\", \"SHE\", \"SHE\", \"SHE\", i, j, i, j)\n",
    "        e_c = debiased_cov_jk[cov_key][0, 0]\n",
    "        e_err = np.sqrt(np.diag(e_c))\n",
    "        b_c = debiased_cov_jk[cov_key][1, 1]\n",
    "        b_err = np.sqrt(np.diag(b_c))\n",
    "        ax[2 * (j - 1), i - 1].errorbar(\n",
    "            lgrid,\n",
    "            cqs0[key][0, :],\n",
    "            yerr=e_err,\n",
    "            c=\"C0\",\n",
    "            lw=1.5,\n",
    "            zorder=3.0,\n",
    "            alpha=0.5,\n",
    "        )\n",
    "        ax[2 * (j - 1), i - 1].plot(\n",
    "            ell[10:], theory_cls[key][0, 10:], c=\"C0\", lw=1.0, zorder=4.0\n",
    "        )\n",
    "        ax[2 * (j - 1) + 1, i - 1].errorbar(\n",
    "            lgrid,\n",
    "            (cqs0[key][0, :] - heracles.binned(theory_cls[key][0, 2:], ledges))\n",
    "            / heracles.binned(theory_cls[key][0, 2:], ledges),\n",
    "            yerr=np.abs(e_err / cqs0[key][0, :]),\n",
    "            fmt=\".\",\n",
    "            c=\"C0\",\n",
    "            lw=1.5,\n",
    "            zorder=1.0,\n",
    "            alpha=0.5,\n",
    "        )\n",
    "        ax[2 * (j - 1), i - 1].errorbar(\n",
    "            lgrid,\n",
    "            cqs0[key][1, :],\n",
    "            yerr=b_err,\n",
    "            c=\"C1\",\n",
    "            lw=1.5,\n",
    "            zorder=1.0,\n",
    "            alpha=0.5,\n",
    "        )\n",
    "        ax[2 * (j - 1), i - 1].plot(\n",
    "            ell[10:],\n",
    "            theory_cls[key][1, 10:],\n",
    "            c=\"C1\",\n",
    "            lw=1.0,\n",
    "            zorder=2.0,\n",
    "        )\n",
    "        ax[2 * (j - 1), i - 1].axhline(0.0, c=\"k\", lw=0.8, zorder=-1)\n",
    "        ax[2 * (j - 1) + 1, i - 1].axhline(0.0, c=\"k\", lw=0.8, zorder=-1)\n",
    "        ax[2 * (j - 1), i - 1].tick_params(axis=\"both\", which=\"both\", direction=\"in\")\n",
    "        ax[2 * (j - 1), i - 1].set_yscale(\n",
    "            \"symlog\", linthresh=1e-10, linscale=0.45, subs=np.arange(0.1, 1.0, 0.1)\n",
    "        )\n",
    "        ax[2 * (j - 1), i - 1].set_ylim(-3e-9, 5e-9)\n",
    "        ax[2 * (j - 1) + 1, i - 1].set_yscale(\n",
    "            \"symlog\", linthresh=0.1, linscale=0.45, subs=np.arange(0.1, 1.0, 0.1)\n",
    "        )\n",
    "        ax[2 * (j - 1) + 1, i - 1].set_ylim(-2.5, 2.5)\n",
    "\n",
    "        ax[2 * (j - 1), i - 1].set_xscale(\"log\")\n",
    "        ax[2 * (j - 1), i - 1].set_xlim(5, lmax * 2)\n",
    "        ax[2 * (j - 1) + 1, i - 1].set_xscale(\"log\")\n",
    "        ax[2 * (j - 1) + 1, i - 1].set_xlim(5, lmax * 2)\n",
    "        if i > 1:\n",
    "            ax[2 * (j - 1), i - 1].set_yticklabels([])\n",
    "            ax[2 * (j - 1) + 1, i - 1].set_yticklabels([])\n",
    "ax[0, 0].xaxis.get_major_locator().set_params(numticks=99)\n",
    "ax[0, 0].xaxis.get_minor_locator().set_params(\n",
    "    numticks=99, subs=np.arange(0.1, 1.0, 0.1)\n",
    ")\n",
    "# ax[0, 0].set_yscale(\n",
    "#    \"symlog\", linthresh=1e-10, linscale=0.45, subs=np.arange(0.1, 1.0, 0.1)\n",
    "# )\n",
    "# ax[0, 0].set_ylim(-3e-7, 5e-7)\n",
    "\n",
    "fig.subplots_adjust(left=0.0, bottom=0.0, right=1.0, top=1.0, wspace=0.0, hspace=0.0)\n",
    "\n",
    "fig.supxlabel(\"angular mode $\\\\ell$\", y=-0.05, va=\"top\")\n",
    "fig.supylabel(\"cosmic shear $C_\\\\ell$\", x=-0.1, ha=\"right\")\n",
    "\n",
    "plt.show()"
   ]
  },
  {
   "cell_type": "code",
   "execution_count": null,
   "metadata": {},
   "outputs": [],
   "source": [
    "fig, ax = plt.subplots(\n",
    "    2 * (nbins - 1),\n",
    "    (nbins - 1),\n",
    "    figsize=(9, 9),\n",
    "    gridspec_kw={\"height_ratios\": [3, 1, 3, 1, 3, 1]},\n",
    ")\n",
    "\n",
    "for i in range(1, nbins):\n",
    "    for j in range(1, nbins):\n",
    "        key = (\"POS\", \"SHE\", i, j)\n",
    "        cov_key = (\"POS\", \"SHE\", \"POS\", \"SHE\", i, j, i, j)\n",
    "        e_c = debiased_cov_jk[cov_key][0, 0]\n",
    "        e_err = np.sqrt(np.diag(e_c))\n",
    "        b_c = debiased_cov_jk[cov_key][0, 1]\n",
    "        b_err = np.sqrt(np.diag(b_c))\n",
    "        ax[2 * (j - 1), i - 1].errorbar(\n",
    "            lgrid,\n",
    "            cqs0[key][0, :],\n",
    "            yerr=e_err,\n",
    "            c=\"C0\",\n",
    "            lw=1.5,\n",
    "            zorder=3.0,\n",
    "            alpha=0.5,\n",
    "        )\n",
    "        ax[2 * (j - 1), i - 1].plot(\n",
    "            ell[10:], theory_cls[key][0, 10:], c=\"C0\", lw=1.0, zorder=4.0\n",
    "        )\n",
    "        ax[2 * (j - 1) + 1, i - 1].errorbar(\n",
    "            lgrid,\n",
    "            (cqs0[key][0, :] - heracles.binned(theory_cls[key][0, 2:], ledges))\n",
    "            / heracles.binned(theory_cls[key][0, 2:], ledges),\n",
    "            yerr=np.abs(e_err / cqs0[key][0, :]),\n",
    "            fmt=\".\",\n",
    "            c=\"C0\",\n",
    "            lw=1.5,\n",
    "            zorder=1.0,\n",
    "            alpha=0.5,\n",
    "        )\n",
    "        ax[2 * (j - 1), i - 1].errorbar(\n",
    "            lgrid,\n",
    "            cqs0[key][1, :],\n",
    "            yerr=b_err,\n",
    "            c=\"C1\",\n",
    "            lw=1.5,\n",
    "            zorder=1.0,\n",
    "            alpha=0.5,\n",
    "        )\n",
    "        ax[2 * (j - 1), i - 1].plot(\n",
    "            ell[10:], theory_cls[key][1, 10:], c=\"C1\", lw=1.0, zorder=2.0\n",
    "        )\n",
    "        ax[2 * (j - 1), i - 1].axhline(0.0, c=\"k\", lw=0.8, zorder=-1)\n",
    "        ax[2 * (j - 1) + 1, i - 1].axhline(0.0, c=\"k\", lw=0.8, zorder=-1)\n",
    "        ax[2 * (j - 1), i - 1].tick_params(axis=\"both\", which=\"both\", direction=\"in\")\n",
    "\n",
    "        ax[2 * (j - 1), i - 1].set_yscale(\n",
    "            \"symlog\", linthresh=1e-9, linscale=0.45, subs=np.arange(0.1, 1.0, 0.1)\n",
    "        )\n",
    "        ax[2 * (j - 1), i - 1].set_ylim(-8e-7, 8e-7)\n",
    "        ax[2 * (j - 1) + 1, i - 1].set_yscale(\n",
    "            \"symlog\",\n",
    "            linthresh=0.1,\n",
    "            linscale=0.1,\n",
    "        )\n",
    "        ax[2 * (j - 1) + 1, i - 1].set_ylim(-10, 10)\n",
    "\n",
    "        ax[2 * (j - 1), i - 1].set_xscale(\"log\")\n",
    "        ax[2 * (j - 1), i - 1].set_xlim(5, lmax * 2)\n",
    "        ax[2 * (j - 1) + 1, i - 1].set_xscale(\"log\")\n",
    "        ax[2 * (j - 1) + 1, i - 1].set_xlim(5, lmax * 2)\n",
    "        if i > 1:\n",
    "            ax[2 * (j - 1), i - 1].set_yticklabels([])\n",
    "            ax[2 * (j - 1) + 1, i - 1].set_yticklabels([])\n",
    "\n",
    "# ax[0, 0].set_xscale(\"log\")\n",
    "# ax[0, 0].set_xlim(1 / 2, lmax * 2)\n",
    "ax[0, 0].xaxis.get_major_locator().set_params(numticks=99)\n",
    "ax[0, 0].xaxis.get_minor_locator().set_params(\n",
    "    numticks=99, subs=np.arange(0.1, 1.0, 0.1)\n",
    ")\n",
    "# ax[0, 0].set_yscale(\n",
    "#    \"symlog\", linthresh=1e-9, linscale=0.45, subs=np.arange(0.1, 1.0, 0.1)\n",
    "# )\n",
    "# ax[0, 0].set_ylim(-8e-7, 4e-7)\n",
    "\n",
    "fig.subplots_adjust(left=0.0, bottom=0.0, right=1.0, top=1.0, wspace=0.0, hspace=0.0)\n",
    "\n",
    "fig.supxlabel(\"angular mode $\\\\ell$\", y=-0.05, va=\"top\")\n",
    "fig.supylabel(\"galaxy--galaxy lensing $C_\\\\ell$\", x=-0.1, ha=\"right\")\n",
    "\n",
    "plt.show()"
   ]
  },
  {
   "cell_type": "code",
   "execution_count": null,
   "metadata": {},
   "outputs": [],
   "source": []
  },
  {
   "cell_type": "code",
   "execution_count": null,
   "metadata": {},
   "outputs": [],
   "source": []
  },
  {
   "cell_type": "code",
   "execution_count": null,
   "metadata": {},
   "outputs": [],
   "source": []
  }
 ],
 "metadata": {
  "kernelspec": {
   "display_name": "gitd",
   "language": "python",
   "name": "python3"
  },
  "language_info": {
   "codemirror_mode": {
    "name": "ipython",
    "version": 3
   },
   "file_extension": ".py",
   "mimetype": "text/x-python",
   "name": "python",
   "nbconvert_exporter": "python",
   "pygments_lexer": "ipython3",
   "version": "3.13.2"
  }
 },
 "nbformat": 4,
 "nbformat_minor": 4
}
